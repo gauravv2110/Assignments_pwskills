{
 "cells": [
  {
   "cell_type": "markdown",
   "id": "9a3c239d",
   "metadata": {},
   "source": [
    "# Q1. Soln. "
   ]
  },
  {
   "cell_type": "code",
   "execution_count": 26,
   "id": "d1d42490",
   "metadata": {},
   "outputs": [],
   "source": [
    "class vehicle :\n",
    "    \n",
    "    def __init__( self , name_of_vehicle , max_speed , average_of_vehicle ) :\n",
    "        \n",
    "        self.name_of_vehicle = name_of_vehicle\n",
    "        self.max_speed = max_speed\n",
    "        self.average_of_vehicle = average_of_vehicle\n",
    "        \n",
    "    def print_inst_var(self):\n",
    "        \n",
    "        return self.name_of_vehicle , self.max_speed , self.average_of_vehicle\n",
    "        \n",
    "    "
   ]
  },
  {
   "cell_type": "code",
   "execution_count": 27,
   "id": "dda4e010",
   "metadata": {},
   "outputs": [],
   "source": [
    "vec_obj = vehicle(\"ducati panigale v4\" , 250 , 15)"
   ]
  },
  {
   "cell_type": "code",
   "execution_count": 28,
   "id": "ce92562e",
   "metadata": {},
   "outputs": [
    {
     "data": {
      "text/plain": [
       "('ducati panigale v4', 250, 15)"
      ]
     },
     "execution_count": 28,
     "metadata": {},
     "output_type": "execute_result"
    }
   ],
   "source": [
    "vec_obj.print_inst_var()"
   ]
  },
  {
   "cell_type": "markdown",
   "id": "f62905e7",
   "metadata": {},
   "source": [
    "# Q2.Soln."
   ]
  },
  {
   "cell_type": "code",
   "execution_count": 63,
   "id": "eba925a8",
   "metadata": {},
   "outputs": [],
   "source": [
    "class car(vehicle) :\n",
    "    \n",
    "    def seating_capacity(self , capacity):\n",
    "        \n",
    "        self.capacity = capacity   \n",
    "        return self.name_of_vehicle , self.capacity\n"
   ]
  },
  {
   "cell_type": "code",
   "execution_count": 64,
   "id": "c5cdcc96",
   "metadata": {},
   "outputs": [],
   "source": [
    "car_obj = car(\"cadillac escalade 2023\" , 210 , 15)"
   ]
  },
  {
   "cell_type": "code",
   "execution_count": 65,
   "id": "a2c1436e",
   "metadata": {},
   "outputs": [
    {
     "data": {
      "text/plain": [
       "('cadillac escalade 2023', 6)"
      ]
     },
     "execution_count": 65,
     "metadata": {},
     "output_type": "execute_result"
    }
   ],
   "source": [
    "car_obj.seating_capacity(6)"
   ]
  },
  {
   "cell_type": "markdown",
   "id": "7d203f1d",
   "metadata": {},
   "source": [
    "# Q3.Soln."
   ]
  },
  {
   "cell_type": "markdown",
   "id": "298467aa",
   "metadata": {},
   "source": [
    "Multiple Inheritance :\n",
    "\n",
    "When a class is derived from more than one base class it is called multiple Inheritance. The derived class inherits all the features of the base case.\n"
   ]
  },
  {
   "cell_type": "code",
   "execution_count": 71,
   "id": "f0d47bfb",
   "metadata": {},
   "outputs": [],
   "source": [
    "# python code to demonstrate the multiple inheritance\n",
    "\n",
    "class a :\n",
    "    \n",
    "    def method1():\n",
    "        print(\"Hello this is class a accessed by c class object\")\n",
    "\n",
    "class b :\n",
    "    \n",
    "    def method2():\n",
    "        print(\"Hello this is class b accessed by c class object\") \n",
    "        \n",
    "class c( a , b ):\n",
    "    \n",
    "    def method3():\n",
    "        print(\"Hello this is class c accessed by c class object\")"
   ]
  },
  {
   "cell_type": "code",
   "execution_count": 72,
   "id": "c4326420",
   "metadata": {},
   "outputs": [],
   "source": [
    "c_obj = c()"
   ]
  },
  {
   "cell_type": "code",
   "execution_count": 73,
   "id": "6c171352",
   "metadata": {},
   "outputs": [
    {
     "name": "stdout",
     "output_type": "stream",
     "text": [
      "Hello this is class a accessed by c class object\n",
      "Hello this is class b accessed by c class object\n",
      "Hello this is class c accessed by c class object\n"
     ]
    }
   ],
   "source": [
    "c.method1()\n",
    "c.method2()\n",
    "c.method3()"
   ]
  },
  {
   "cell_type": "markdown",
   "id": "5c65e10a",
   "metadata": {},
   "source": [
    "# Q4. Soln."
   ]
  },
  {
   "cell_type": "markdown",
   "id": "db586f64",
   "metadata": {},
   "source": [
    "* Getter: \n",
    "\n",
    "A method that allows you to access an attribute in a given class.\n",
    "\n",
    "* Setter: \n",
    "\n",
    "A method that allows you to set or mutate the value of an attribute in a class."
   ]
  },
  {
   "cell_type": "code",
   "execution_count": 86,
   "id": "a098958c",
   "metadata": {},
   "outputs": [],
   "source": [
    "class a :\n",
    "    \n",
    "    def __init__(self,name,age):\n",
    "        \n",
    "        self.__name = name\n",
    "        self.age = age\n",
    "        \n",
    "    @property\n",
    "    \n",
    "    def get_access(self):\n",
    "        \n",
    "        return self.__name\n",
    "    \n",
    "    @get_access.setter\n",
    "    \n",
    "    def change_name(self , new_name):\n",
    "        \n",
    "        self.__name = new_name\n",
    "        \n",
    "\n",
    "        "
   ]
  },
  {
   "cell_type": "code",
   "execution_count": 87,
   "id": "85f7595e",
   "metadata": {},
   "outputs": [],
   "source": [
    "a_obj = a(\"soumya\",14)"
   ]
  },
  {
   "cell_type": "code",
   "execution_count": 88,
   "id": "e439773e",
   "metadata": {},
   "outputs": [
    {
     "data": {
      "text/plain": [
       "'soumya'"
      ]
     },
     "execution_count": 88,
     "metadata": {},
     "output_type": "execute_result"
    }
   ],
   "source": [
    "a_obj.get_access"
   ]
  },
  {
   "cell_type": "code",
   "execution_count": 89,
   "id": "04ac8cd2",
   "metadata": {},
   "outputs": [],
   "source": [
    "a_obj.change_name = \"Anvika\""
   ]
  },
  {
   "cell_type": "code",
   "execution_count": 90,
   "id": "3b3d118d",
   "metadata": {},
   "outputs": [
    {
     "data": {
      "text/plain": [
       "'Anvika'"
      ]
     },
     "execution_count": 90,
     "metadata": {},
     "output_type": "execute_result"
    }
   ],
   "source": [
    "a_obj.get_access"
   ]
  },
  {
   "cell_type": "markdown",
   "id": "a12da71c",
   "metadata": {},
   "source": [
    "# Q5. Soln. "
   ]
  },
  {
   "cell_type": "markdown",
   "id": "5c07e477",
   "metadata": {},
   "source": [
    "* method overriding :\n",
    "    \n",
    "Method overriding is a feature of object-oriented programming languages where the subclass or child class can provide the program with specific characteristics or a specific implementation process of data provided that are already defined in the parent class or superclass"
   ]
  },
  {
   "cell_type": "code",
   "execution_count": 146,
   "id": "3aeb26fb",
   "metadata": {},
   "outputs": [],
   "source": [
    "class parent_override :\n",
    "    \n",
    "    def __init__(self , name , age):\n",
    "        \n",
    "        self.name = name\n",
    "        self.age = age\n",
    "    \n",
    "    @classmethod\n",
    "    def get_details(cls , name_override , age_override ):\n",
    "        return cls( name_override , age_override)\n",
    "\n",
    "    def get_op(self):\n",
    "        \n",
    "        return self.name , self.age\n"
   ]
  },
  {
   "cell_type": "code",
   "execution_count": 147,
   "id": "81f66d89",
   "metadata": {},
   "outputs": [],
   "source": [
    "pp = parent_override.get_details(\"Shivraj\",21)"
   ]
  },
  {
   "cell_type": "code",
   "execution_count": 148,
   "id": "c6fdc61e",
   "metadata": {},
   "outputs": [
    {
     "data": {
      "text/plain": [
       "('Shivraj', 21)"
      ]
     },
     "execution_count": 148,
     "metadata": {},
     "output_type": "execute_result"
    }
   ],
   "source": [
    "pp.get_op()"
   ]
  },
  {
   "cell_type": "code",
   "execution_count": null,
   "id": "c0cadd79",
   "metadata": {},
   "outputs": [],
   "source": []
  }
 ],
 "metadata": {
  "kernelspec": {
   "display_name": "Python 3 (ipykernel)",
   "language": "python",
   "name": "python3"
  },
  "language_info": {
   "codemirror_mode": {
    "name": "ipython",
    "version": 3
   },
   "file_extension": ".py",
   "mimetype": "text/x-python",
   "name": "python",
   "nbconvert_exporter": "python",
   "pygments_lexer": "ipython3",
   "version": "3.9.13"
  }
 },
 "nbformat": 4,
 "nbformat_minor": 5
}
