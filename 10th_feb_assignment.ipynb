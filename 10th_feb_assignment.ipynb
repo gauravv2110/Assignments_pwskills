{
 "cells": [
  {
   "cell_type": "markdown",
   "id": "5dfae4b2",
   "metadata": {},
   "source": [
    "# Q1. Soln."
   ]
  },
  {
   "cell_type": "markdown",
   "id": "377833df",
   "metadata": {},
   "source": [
    "the open() function is used to open a file in python and there are two different  types of creating a file in python as shown below"
   ]
  },
  {
   "cell_type": "code",
   "execution_count": 1,
   "id": "4711650c",
   "metadata": {},
   "outputs": [],
   "source": [
    "# 1st method \n",
    "\n",
    "f = open(\"file1.txt\" ,'w')\n",
    "f.write(\"this is one type of creating the file\")\n",
    "f.close()\n",
    "\n",
    "# 2nd method\n",
    "\n",
    "with open(\"file2.txt\" ,'w') as f1 :\n",
    "    f1.write(\"this is another type of creating the file\")\n",
    "    f1.close()"
   ]
  },
  {
   "cell_type": "code",
   "execution_count": 2,
   "id": "e9e9c27c",
   "metadata": {},
   "outputs": [
    {
     "name": "stdout",
     "output_type": "stream",
     "text": [
      "this is one type of creating the file\n",
      "this is another type of creating the file\n"
     ]
    }
   ],
   "source": [
    "# reading the files \n",
    "\n",
    "# reading file for 1st method by using which we have created a file :\n",
    "\n",
    "f = open(\"file1.txt\" ,'r')\n",
    "print(f.read())\n",
    "f.close()\n",
    "\n",
    "# reading file for 2nd method by using which we have created a file :\n",
    "\n",
    "with open(\"file2.txt\" ,'r') as f1 :\n",
    "    print(f1.read())\n",
    "    f1.close()"
   ]
  },
  {
   "cell_type": "markdown",
   "id": "dc87b1b7",
   "metadata": {},
   "source": [
    "# Q2. Soln."
   ]
  },
  {
   "cell_type": "markdown",
   "id": "69541f61",
   "metadata": {},
   "source": [
    "the close() function is used to close the file which we have opened for performing some operation like read , write ,etc and without closing that file we cannot get the desired output , \n",
    "\n",
    "we should always close our files, in some cases, due to buffering, changes made to a file may not show until you close the file."
   ]
  },
  {
   "cell_type": "markdown",
   "id": "cec605b6",
   "metadata": {},
   "source": [
    "# Q3. soln."
   ]
  },
  {
   "cell_type": "code",
   "execution_count": 3,
   "id": "09ab22ca",
   "metadata": {},
   "outputs": [],
   "source": [
    "f = open(\"file3.txt\" , 'w')\n",
    "f.write(\"I want to become a Data Scientist\")\n",
    "f.close()"
   ]
  },
  {
   "cell_type": "code",
   "execution_count": 4,
   "id": "d8e9cd9b",
   "metadata": {},
   "outputs": [
    {
     "name": "stdout",
     "output_type": "stream",
     "text": [
      "I want to become a Data Scientist\n"
     ]
    }
   ],
   "source": [
    "f = open(\"file3.txt\" , 'r')\n",
    "print(f.read())\n",
    "f.close()"
   ]
  },
  {
   "cell_type": "markdown",
   "id": "49b29303",
   "metadata": {},
   "source": [
    "# Q4. Soln."
   ]
  },
  {
   "cell_type": "code",
   "execution_count": 5,
   "id": "cd372174",
   "metadata": {},
   "outputs": [],
   "source": [
    "f = open(\"fie4.txt\" , 'w')\n",
    "f.write(\"Life isn't always beautiful. That was a lesson that Dan was learning. He also \\n realized that life wasn't easy. This had come as a shock since he had lived a \\n charmed life. He hated that this was the truth and he struggled to be happy \\n knowing that his assumptions weren't correct. He wouldn't realize until much \\n later in life that the difficult obstacles he was facing that were taking \\n away the beauty in his life at this moment would ultimately make his life much \\n more beautiful. All he knew was that at this moment was that life isn't always beautiful.\")\n",
    "f.close()"
   ]
  },
  {
   "cell_type": "code",
   "execution_count": 6,
   "id": "de814785",
   "metadata": {},
   "outputs": [
    {
     "name": "stdout",
     "output_type": "stream",
     "text": [
      "Life isn't always beautiful. That was a lesson that Dan was learning. He also \n",
      " realized that life wasn't easy. This had come as a shock since he had lived a \n",
      " charmed life. He hated that this was the truth and he struggled to be happy \n",
      " knowing that his assumptions weren't correct. He wouldn't realize until much \n",
      " later in life that the difficult obstacles he was facing that were taking \n",
      " away the beauty in his life at this moment would ultimately make his life much \n",
      " more beautiful. All he knew was that at this moment was that life isn't always beautiful.\n"
     ]
    }
   ],
   "source": [
    "f = open(\"fie4.txt\" , 'r')\n",
    "r_read = f.read()\n",
    "print(r_read)\n",
    "f.close()\n",
    "\n",
    "# this read() method will read the whole file from starting index to ending index"
   ]
  },
  {
   "cell_type": "code",
   "execution_count": 7,
   "id": "e77b9599",
   "metadata": {},
   "outputs": [
    {
     "name": "stdout",
     "output_type": "stream",
     "text": [
      "Life isn't always beautiful. That was a lesson that Dan was learning. He also \n",
      "\n"
     ]
    }
   ],
   "source": [
    "f = open(\"fie4.txt\" , 'r')\n",
    "r_readline = f.readline()\n",
    "print(r_readline)\n",
    "f.close()\n",
    "\n",
    "# this readline() method will read until the new line is occured"
   ]
  },
  {
   "cell_type": "code",
   "execution_count": 8,
   "id": "2179fc08",
   "metadata": {},
   "outputs": [
    {
     "name": "stdout",
     "output_type": "stream",
     "text": [
      "[\"Life isn't always beautiful. That was a lesson that Dan was learning. He also \\n\", \" realized that life wasn't easy. This had come as a shock since he had lived a \\n\"]\n"
     ]
    }
   ],
   "source": [
    "f = open(\"fie4.txt\" , 'r')\n",
    "r_readlines = f.readlines(100)\n",
    "print(r_readlines)\n",
    "f.close()\n",
    "\n",
    "# this readlines() method will read the data until the given bytes and when the given range of byte exceeds then it will stop reading the file"
   ]
  },
  {
   "cell_type": "markdown",
   "id": "5feb9a9a",
   "metadata": {},
   "source": [
    "# Q5. Soln."
   ]
  },
  {
   "cell_type": "markdown",
   "id": "6920c743",
   "metadata": {},
   "source": [
    "* the reason behind why with statement is used with open() is that :\n",
    "    \n",
    "The with statement works with the open() function to open a file. Unlike open() where you have to close the file with the close() method, \n",
    "\n",
    "* advantage of using with statement with open() is that :\n",
    "\n",
    "the with statement closes the file for you without you telling it to"
   ]
  },
  {
   "cell_type": "markdown",
   "id": "73034367",
   "metadata": {},
   "source": [
    "# Q6. Soln."
   ]
  },
  {
   "cell_type": "markdown",
   "id": "1c57bfd5",
   "metadata": {},
   "source": [
    "The difference between Write() and WriteLine() method is based on new line character. Write() method displays the output but do not provide a new line character. WriteLine() method displays the output and also provides a new line character it the end of the string, This would set a new line for the next output."
   ]
  },
  {
   "cell_type": "code",
   "execution_count": 9,
   "id": "9b3c2f8a",
   "metadata": {},
   "outputs": [],
   "source": [
    "f = open(\"file5.txt\" , 'w')\n",
    "f.write(\"The difference between Write() and WriteLine() method \\n is based on new line character. Write() method displays the output but do not provide a new line character. \\n WriteLine() method displays the output and also provides a new line character it the end of \\n the string, This would set a new line \\n for the next output.\")\n",
    "f.close()"
   ]
  },
  {
   "cell_type": "code",
   "execution_count": 10,
   "id": "4ac3971a",
   "metadata": {},
   "outputs": [
    {
     "name": "stdout",
     "output_type": "stream",
     "text": [
      "The difference between Write() and WriteLine() method \n",
      " is based on new line character. Write() method displays the output but do not provide a new line character. \n",
      " WriteLine() method displays the output and also provides a new line character it the end of \n",
      " the string, This would set a new line \n",
      " for the next output.\n"
     ]
    }
   ],
   "source": [
    "f = open(\"file5.txt\" , 'r')\n",
    "print(f.read())\n",
    "f.close()"
   ]
  },
  {
   "cell_type": "code",
   "execution_count": 11,
   "id": "307707af",
   "metadata": {},
   "outputs": [],
   "source": [
    "f = open(\"file6.txt\" , 'w')\n",
    "f.writelines(\"The difference between Write() and WriteLine() method \\n is based on new line character. Write() method displays the output but do not provide a new line character. \\n WriteLine() method displays the output and also provides a new line character it the end of \\n the string, This would set a new line \\n for the next output.\")\n",
    "f.close()"
   ]
  },
  {
   "cell_type": "code",
   "execution_count": 12,
   "id": "97791589",
   "metadata": {},
   "outputs": [
    {
     "name": "stdout",
     "output_type": "stream",
     "text": [
      "The difference between Write() and WriteLine() method \n",
      " is based on new line character. Write() method displays the output but do not provide a new line character. \n",
      " WriteLine() method displays the output and also provides a new line character it the end of \n",
      " the string, This would set a new line \n",
      " for the next output.\n"
     ]
    }
   ],
   "source": [
    "f = open(\"file6.txt\" , 'r')\n",
    "print(f.read())\n",
    "f.close()"
   ]
  },
  {
   "cell_type": "code",
   "execution_count": null,
   "id": "cabe3951",
   "metadata": {},
   "outputs": [],
   "source": []
  }
 ],
 "metadata": {
  "kernelspec": {
   "display_name": "Python 3 (ipykernel)",
   "language": "python",
   "name": "python3"
  },
  "language_info": {
   "codemirror_mode": {
    "name": "ipython",
    "version": 3
   },
   "file_extension": ".py",
   "mimetype": "text/x-python",
   "name": "python",
   "nbconvert_exporter": "python",
   "pygments_lexer": "ipython3",
   "version": "3.9.13"
  }
 },
 "nbformat": 4,
 "nbformat_minor": 5
}
