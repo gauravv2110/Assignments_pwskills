{
 "cells": [
  {
   "cell_type": "markdown",
   "id": "b4d43e3d",
   "metadata": {},
   "source": [
    "# Q1. Soln."
   ]
  },
  {
   "cell_type": "code",
   "execution_count": 19,
   "id": "ea8f5a84",
   "metadata": {},
   "outputs": [
    {
     "data": {
      "text/plain": [
       "[1, 3, 5, 7, 9, 11, 13, 15, 17, 19, 21, 23, 25]"
      ]
     },
     "execution_count": 19,
     "metadata": {},
     "output_type": "execute_result"
    }
   ],
   "source": [
    "# The def() keyword is used to create a function in the python language . \n",
    "\n",
    "# Code to return the list of of odd no.s from range of 1 to 25 .\n",
    "\n",
    "l = []\n",
    "\n",
    "for i in range(1,26) :\n",
    "    if i%2 != 0 : \n",
    "        l.append(i)\n",
    "    \n",
    "l"
   ]
  },
  {
   "cell_type": "markdown",
   "id": "7e6ec896",
   "metadata": {},
   "source": [
    "# Q2. Soln."
   ]
  },
  {
   "cell_type": "code",
   "execution_count": 18,
   "id": "b5fc7c52",
   "metadata": {},
   "outputs": [],
   "source": [
    "*args use :\n",
    "\n",
    "*args allows us to pass a variable number of non-keyword arguments to a Python function. In the function, \n",
    "we should use an asterisk (*) before the parameter name to pass a variable number of arguments.\n",
    "\n",
    "\n",
    "**Kwargs use :\n",
    "\n",
    "**kwargs allows us to pass a variable number of keyword arguments to a Python function. In the function, \n",
    "we use the double-asterisk (**) before the parameter name to denote this type of argument.\n",
    "\n"
   ]
  },
  {
   "cell_type": "code",
   "execution_count": 16,
   "id": "26f0cfcd",
   "metadata": {},
   "outputs": [
    {
     "data": {
      "text/plain": [
       "[' I have passed so many arguments by just giving one parameter and values are : ',\n",
       " 4,\n",
       " 5,\n",
       " 6,\n",
       " 5,\n",
       " 8,\n",
       " 9,\n",
       " 6,\n",
       " 5,\n",
       " 2,\n",
       " 4,\n",
       " 1,\n",
       " 0,\n",
       " 3]"
      ]
     },
     "execution_count": 16,
     "metadata": {},
     "output_type": "execute_result"
    }
   ],
   "source": [
    "# Ex. of *args :\n",
    "\n",
    "l = []\n",
    "def argss_ex(*args) :\n",
    "        for i in args :\n",
    "            l.append(i)\n",
    "            \n",
    "argss_ex(\" I have passed so many arguments by just giving one parameter and values are : \",4,5,6,5,8,9,6,5,2,4,1,0,3)\n",
    "\n",
    "l\n"
   ]
  },
  {
   "cell_type": "code",
   "execution_count": 17,
   "id": "f90d76f3",
   "metadata": {},
   "outputs": [
    {
     "name": "stdout",
     "output_type": "stream",
     "text": [
      "arg1  =  1st value\n",
      "arg2  =  2nd value\n",
      "arg3  =  3rd value\n"
     ]
    }
   ],
   "source": [
    "# Ex. of **kargs :\n",
    "\n",
    "l2 = []\n",
    "def argss_ex1(**kwargs) :\n",
    "        for i , j in kwargs.items() :\n",
    "            print(i,\" = \",j)\n",
    "            \n",
    "argss_ex1(arg1=\"1st value\",arg2=\"2nd value\",arg3=\"3rd value\")\n"
   ]
  },
  {
   "cell_type": "markdown",
   "id": "d1fbd513",
   "metadata": {},
   "source": [
    "# Q3. Soln."
   ]
  },
  {
   "cell_type": "code",
   "execution_count": 23,
   "id": "2e953c9d",
   "metadata": {},
   "outputs": [
    {
     "name": "stdout",
     "output_type": "stream",
     "text": [
      "2\n",
      "4\n",
      "6\n",
      "8\n",
      "10\n"
     ]
    }
   ],
   "source": [
    "# Iterator :\n",
    "\n",
    "# i.)  An iterator is an object that contains a countable number of values.\n",
    "# ii.) An iterator is an object that can be iterated upon, meaning that you can traverse through all the values .\n",
    "\n",
    "# Lists, tuples, dictionaries, and sets are all iterable objects. They are iterable containers which you can get an iterator from .\n",
    "# All these objects have a iter() method which is used to get an iterator\n",
    "\n",
    "# To make any iterable object as iterator we use : iter() method .\n",
    "# To return the next value for the iterable we use : next() method\n",
    "\n",
    "\n",
    "l = [2, 4, 6, 8, 10, 12, 14,16, 18, 20]\n",
    "l1 = iter(l)\n",
    "\n",
    "for i in range(0,5):\n",
    "    print(next(l1))\n"
   ]
  },
  {
   "cell_type": "markdown",
   "id": "296fc770",
   "metadata": {},
   "source": [
    "# Q4. Soln. "
   ]
  },
  {
   "cell_type": "code",
   "execution_count": 25,
   "id": "22acce34",
   "metadata": {},
   "outputs": [
    {
     "name": "stdout",
     "output_type": "stream",
     "text": [
      "1\n",
      "2\n",
      "3\n"
     ]
    }
   ],
   "source": [
    "Generator function :\n",
    "\n",
    "A generator-function is defined like a normal function, but whenever it needs to generate a value, it does so with the yield\n",
    "keyword rather than return. If the body of a def contains the yield, the function automatically becomes a generator function. \n",
    "\n",
    "yield keyword :\n",
    "\n",
    "1. The yield statement suspends a function’s execution and sends a value back to the caller, but retains enough state to enable \n",
    "\n",
    "2. the function to resume where it left off. When the function resumes, it continues execution immediately after the last yield\n",
    "    run. \n",
    "\n",
    "3. This allows its code to produce a series of values over time, rather than computing them at once and sending them back like a\n",
    "    list.\n",
    "\n",
    "\n",
    "Ex. Generator :\n",
    "\n",
    "def Gen_ex():\n",
    "    yield 1\n",
    "    yield 2\n",
    "    yield 3\n",
    "\n",
    "for value in Gen_ex():\n",
    "    print(value)"
   ]
  },
  {
   "cell_type": "markdown",
   "id": "0154ca09",
   "metadata": {},
   "source": [
    "# Q5. Soln. "
   ]
  },
  {
   "cell_type": "code",
   "execution_count": 128,
   "id": "3c99958c",
   "metadata": {},
   "outputs": [
    {
     "name": "stdout",
     "output_type": "stream",
     "text": [
      "2\n",
      "3\n",
      "5\n",
      "7\n",
      "11\n",
      "13\n",
      "17\n",
      "19\n",
      "23\n",
      "29\n",
      "31\n",
      "37\n",
      "41\n",
      "43\n",
      "47\n",
      "53\n",
      "59\n",
      "61\n",
      "67\n",
      "71\n"
     ]
    }
   ],
   "source": [
    "def get_first_primes(upper_limit):\n",
    "    primes = []\n",
    "\n",
    "    for i in range(2, upper_limit + 1):\n",
    "        is_prime = True\n",
    "        for j in range(2, ((i // 2) + 1), 1):\n",
    "            if i % j == 0:\n",
    "                is_prime = False\n",
    "                break\n",
    "        if is_prime:\n",
    "            primes.append(i)\n",
    "\n",
    "    yield primes\n",
    "\n",
    "    l = []\n",
    "l1 = iter(l)\n",
    "\n",
    "for i in get_first_primes(1001) :\n",
    "    l.append(i)\n",
    "for i in range(1,21) :\n",
    "    print(next(l1))"
   ]
  },
  {
   "cell_type": "markdown",
   "id": "7bdf274c",
   "metadata": {},
   "source": [
    "# Q6. Soln."
   ]
  },
  {
   "cell_type": "code",
   "execution_count": 7,
   "id": "c3fe4978",
   "metadata": {},
   "outputs": [
    {
     "name": "stdout",
     "output_type": "stream",
     "text": [
      " Enter the no. until which you want t find fibonacci series10\n",
      "0\n",
      "1\n",
      "1\n",
      "2\n",
      "3\n",
      "5\n",
      "8\n",
      "13\n",
      "21\n",
      "34\n"
     ]
    }
   ],
   "source": [
    "i = 0\n",
    "j = 1\n",
    "n = 2\n",
    "\n",
    "number = int(input(\" Enter the no. until which you want t find fibonacci series\"))\n",
    "\n",
    "while n <= number + 1 :\n",
    "    \n",
    "    print(i)\n",
    "    \n",
    "    k = i + j\n",
    "    i = j\n",
    "    j = k\n",
    "    \n",
    "    \n",
    "    n = n + 1"
   ]
  },
  {
   "cell_type": "markdown",
   "id": "bb0674bf",
   "metadata": {},
   "source": [
    "# Q7. Soln."
   ]
  },
  {
   "cell_type": "code",
   "execution_count": 8,
   "id": "eb7d90cd",
   "metadata": {},
   "outputs": [
    {
     "data": {
      "text/plain": [
       "['p', 'w', 's', 'k', 'i', 'l', 'l', 's']"
      ]
     },
     "execution_count": 8,
     "metadata": {},
     "output_type": "execute_result"
    }
   ],
   "source": [
    "strr = \"pwskills\"\n",
    "\n",
    "[i for i in strr]"
   ]
  },
  {
   "cell_type": "markdown",
   "id": "aa9e61fc",
   "metadata": {},
   "source": [
    "# Q8. Soln."
   ]
  },
  {
   "cell_type": "code",
   "execution_count": 21,
   "id": "ec482204",
   "metadata": {},
   "outputs": [
    {
     "name": "stdout",
     "output_type": "stream",
     "text": [
      " Enter the no. which you want to check is palindrome or not : 242\n",
      " \n",
      " The entered no. is an palindrome no. \n"
     ]
    }
   ],
   "source": [
    "pali_check_no = int(input(\" Enter the no. which you want to check is palindrome or not : \"))\n",
    "\n",
    "pal_str = str(pali_check_no)\n",
    "\n",
    "tr_fl = True\n",
    "\n",
    "while tr_fl :\n",
    "    \n",
    "    if pal_str == pal_str[::-1] :\n",
    "        print( \" \\n The entered no. is an palindrome no. \" )\n",
    "        tr_fl = False\n",
    "        \n",
    "    else :\n",
    "        print( \" \\n The entered no. is not an palindrome no. \" )\n",
    "        tr_fl = False\n",
    "        "
   ]
  },
  {
   "cell_type": "markdown",
   "id": "71a93b7c",
   "metadata": {},
   "source": [
    "# Q9. Soln."
   ]
  },
  {
   "cell_type": "code",
   "execution_count": 33,
   "id": "9dae99da",
   "metadata": {},
   "outputs": [
    {
     "name": "stdout",
     "output_type": "stream",
     "text": [
      " \n",
      " List of all no.s from 1 to 100 \n",
      " \n",
      "[1, 2, 3, 4, 5, 6, 7, 8, 9, 10, 11, 12, 13, 14, 15, 16, 17, 18, 19, 20, 21, 22, 23, 24, 25, 26, 27, 28, 29, 30, 31, 32, 33, 34, 35, 36, 37, 38, 39, 40, 41, 42, 43, 44, 45, 46, 47, 48, 49, 50, 51, 52, 53, 54, 55, 56, 57, 58, 59, 60, 61, 62, 63, 64, 65, 66, 67, 68, 69, 70, 71, 72, 73, 74, 75, 76, 77, 78, 79, 80, 81, 82, 83, 84, 85, 86, 87, 88, 89, 90, 91, 92, 93, 94, 95, 96, 97, 98, 99, 100]\n",
      " \n",
      " List of all odd no.s from 1 to 100 \n",
      " \n",
      "[1, 3, 5, 7, 9, 11, 13, 15, 17, 19, 21, 23, 25, 27, 29, 31, 33, 35, 37, 39, 41, 43, 45, 47, 49, 51, 53, 55, 57, 59, 61, 63, 65, 67, 69, 71, 73, 75, 77, 79, 81, 83, 85, 87, 89, 91, 93, 95, 97, 99]\n"
     ]
    }
   ],
   "source": [
    "print(\" \\n List of all no.s from 1 to 100 \\n \")\n",
    "l1 = [i for i in range(1,101)]\n",
    "print(l1)\n",
    "\n",
    "print(\" \\n List of all odd no.s from 1 to 100 \\n \")\n",
    "l2 = [i for i in l1 if i % 2 != 0]\n",
    "print(l2)"
   ]
  },
  {
   "cell_type": "code",
   "execution_count": null,
   "id": "c0b5b85e",
   "metadata": {},
   "outputs": [],
   "source": []
  }
 ],
 "metadata": {
  "kernelspec": {
   "display_name": "Python 3 (ipykernel)",
   "language": "python",
   "name": "python3"
  },
  "language_info": {
   "codemirror_mode": {
    "name": "ipython",
    "version": 3
   },
   "file_extension": ".py",
   "mimetype": "text/x-python",
   "name": "python",
   "nbconvert_exporter": "python",
   "pygments_lexer": "ipython3",
   "version": "3.9.13"
  }
 },
 "nbformat": 4,
 "nbformat_minor": 5
}
