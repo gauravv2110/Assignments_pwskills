{
 "cells": [
  {
   "cell_type": "markdown",
   "id": "55170432",
   "metadata": {},
   "source": [
    "# Q1. Soln."
   ]
  },
  {
   "cell_type": "markdown",
   "id": "186ef7d3",
   "metadata": {},
   "source": [
    "Exception : \n",
    "\n",
    "When in the runtime an error that occurs after passing the syntax test is called exception or logical type. For example, when we divide any number by zero then the ZeroDivisionError exception is raised, or when we import a module that does not exist then ImportError is raised.\n",
    "\n",
    "\n",
    "\n",
    "syntax error : \n",
    "\n",
    "When the proper syntax of the language is not followed then a syntax error is thrown.\n",
    "It returns a syntax error message because after the if statement a colon: is missing. We can fix this by writing the correct syntax.\n",
    "\n",
    "\n"
   ]
  },
  {
   "cell_type": "markdown",
   "id": "f6819d41",
   "metadata": {},
   "source": [
    "# Q2. Soln."
   ]
  },
  {
   "cell_type": "markdown",
   "id": "e9f910fa",
   "metadata": {},
   "source": [
    "If an exception occurs during execution of the try clause, the exception may be handled by an except clause. If the exception is not handled by an except clause, the exception is re-raised after the finally clause has been executed."
   ]
  },
  {
   "cell_type": "code",
   "execution_count": 2,
   "id": "6bb3a87a",
   "metadata": {},
   "outputs": [
    {
     "name": "stdout",
     "output_type": "stream",
     "text": [
      "here after execution of this line exception will be raised because we have not handled the exception manually\n"
     ]
    },
    {
     "ename": "ZeroDivisionError",
     "evalue": "division by zero",
     "output_type": "error",
     "traceback": [
      "\u001b[1;31m---------------------------------------------------------------------------\u001b[0m",
      "\u001b[1;31mZeroDivisionError\u001b[0m                         Traceback (most recent call last)",
      "\u001b[1;32m~\\AppData\\Local\\Temp\\ipykernel_868\\3544828648.py\u001b[0m in \u001b[0;36m<module>\u001b[1;34m\u001b[0m\n\u001b[0;32m      3\u001b[0m     \u001b[0ma\u001b[0m \u001b[1;33m=\u001b[0m \u001b[1;36m5\u001b[0m\u001b[1;33m\u001b[0m\u001b[1;33m\u001b[0m\u001b[0m\n\u001b[0;32m      4\u001b[0m     \u001b[0ma\u001b[0m \u001b[1;33m=\u001b[0m \u001b[0ma\u001b[0m \u001b[1;33m+\u001b[0m \u001b[1;36m4\u001b[0m\u001b[1;33m\u001b[0m\u001b[1;33m\u001b[0m\u001b[0m\n\u001b[1;32m----> 5\u001b[1;33m     \u001b[0ma\u001b[0m \u001b[1;33m=\u001b[0m \u001b[0ma\u001b[0m \u001b[1;33m/\u001b[0m \u001b[1;36m0\u001b[0m\u001b[1;33m\u001b[0m\u001b[1;33m\u001b[0m\u001b[0m\n\u001b[0m\u001b[0;32m      6\u001b[0m \u001b[1;33m\u001b[0m\u001b[0m\n\u001b[0;32m      7\u001b[0m \u001b[1;32mfinally\u001b[0m \u001b[1;33m:\u001b[0m\u001b[1;33m\u001b[0m\u001b[1;33m\u001b[0m\u001b[0m\n",
      "\u001b[1;31mZeroDivisionError\u001b[0m: division by zero"
     ]
    }
   ],
   "source": [
    "try :\n",
    "    \n",
    "    a = 5\n",
    "    a = a + 4 \n",
    "    a = a / 0\n",
    "    \n",
    "finally :\n",
    "    \n",
    "    print(\"here after execution of this line exception will be raised because we have not handled the exception manually\")"
   ]
  },
  {
   "cell_type": "markdown",
   "id": "85ebeb61",
   "metadata": {},
   "source": [
    "# Q3. Soln."
   ]
  },
  {
   "cell_type": "markdown",
   "id": "82796011",
   "metadata": {},
   "source": [
    "in python we have to use the try and catch statements to catch and handle the exceptions  "
   ]
  },
  {
   "cell_type": "code",
   "execution_count": 7,
   "id": "8dba304c",
   "metadata": {},
   "outputs": [
    {
     "name": "stdout",
     "output_type": "stream",
     "text": [
      "division by zero\n",
      "\n",
      "the code has been handeld successfully using try and except statements\n"
     ]
    }
   ],
   "source": [
    "# example\n",
    "\n",
    "try :\n",
    "    \n",
    "    a = 5\n",
    "    a = a + 4 \n",
    "    a = a / 0\n",
    "    \n",
    "except Exception as e :\n",
    "    \n",
    "    print(e)\n",
    "    print(\"\\nthe code has been handeld successfully using try and except statements\")\n",
    "    "
   ]
  },
  {
   "cell_type": "markdown",
   "id": "8b5b65e8",
   "metadata": {},
   "source": [
    "# Q4. Soln."
   ]
  },
  {
   "cell_type": "markdown",
   "id": "d8fbdcae",
   "metadata": {},
   "source": [
    "* a . try and else "
   ]
  },
  {
   "cell_type": "markdown",
   "id": "7857b4ee",
   "metadata": {},
   "source": [
    "in try and else , the else block will be executed successfully if the try block is executed , but if the except block is executed then the else block will not be excecuted"
   ]
  },
  {
   "cell_type": "code",
   "execution_count": 10,
   "id": "9ba02623",
   "metadata": {},
   "outputs": [
    {
     "name": "stdout",
     "output_type": "stream",
     "text": [
      "this is try block and this is executed and now the else block will also be executed\n",
      "this is else block which is going to be excuted when the try block is executed\n"
     ]
    }
   ],
   "source": [
    "# example of try and else \n",
    "\n",
    "try : \n",
    "    \n",
    "    a = a + 5\n",
    "    a = a **2\n",
    "    print(\"this is try block and this is executed and now the else block will also be executed\")\n",
    "    \n",
    "except Exceptionption as e :\n",
    "    \n",
    "    print(e)\n",
    "    \n",
    "else :\n",
    "    \n",
    "    print(\"this is else block which is going to be excuted when the try block is executed\")"
   ]
  },
  {
   "cell_type": "markdown",
   "id": "a4472e3e",
   "metadata": {},
   "source": [
    "* b . finally"
   ]
  },
  {
   "cell_type": "markdown",
   "id": "66340e73",
   "metadata": {},
   "source": [
    "the finally is the block which will get executed in any condition "
   ]
  },
  {
   "cell_type": "code",
   "execution_count": 14,
   "id": "c0d4e193",
   "metadata": {},
   "outputs": [
    {
     "name": "stdout",
     "output_type": "stream",
     "text": [
      "this is going to be excuted in any condition and here we have not written the except block to handle the exceptions\n"
     ]
    },
    {
     "ename": "NameError",
     "evalue": "name 'b' is not defined",
     "output_type": "error",
     "traceback": [
      "\u001b[1;31m---------------------------------------------------------------------------\u001b[0m",
      "\u001b[1;31mNameError\u001b[0m                                 Traceback (most recent call last)",
      "\u001b[1;32m~\\AppData\\Local\\Temp\\ipykernel_868\\3320042974.py\u001b[0m in \u001b[0;36m<module>\u001b[1;34m\u001b[0m\n\u001b[0;32m      3\u001b[0m \u001b[1;32mtry\u001b[0m \u001b[1;33m:\u001b[0m\u001b[1;33m\u001b[0m\u001b[1;33m\u001b[0m\u001b[0m\n\u001b[0;32m      4\u001b[0m \u001b[1;33m\u001b[0m\u001b[0m\n\u001b[1;32m----> 5\u001b[1;33m     \u001b[0ma\u001b[0m \u001b[1;33m=\u001b[0m \u001b[0ma\u001b[0m \u001b[1;33m/\u001b[0m \u001b[0mb\u001b[0m\u001b[1;33m\u001b[0m\u001b[1;33m\u001b[0m\u001b[0m\n\u001b[0m\u001b[0;32m      6\u001b[0m     \u001b[0mprint\u001b[0m\u001b[1;33m(\u001b[0m\u001b[0ma\u001b[0m\u001b[1;33m)\u001b[0m\u001b[1;33m\u001b[0m\u001b[1;33m\u001b[0m\u001b[0m\n\u001b[0;32m      7\u001b[0m \u001b[1;33m\u001b[0m\u001b[0m\n",
      "\u001b[1;31mNameError\u001b[0m: name 'b' is not defined"
     ]
    }
   ],
   "source": [
    "# example \n",
    "\n",
    "try :\n",
    "    \n",
    "    a = a / b\n",
    "    print(a)\n",
    "\n",
    "finally :\n",
    "    \n",
    "    print(\"this is going to be excuted in any condition and here we have not written the except block to handle the exceptions\")"
   ]
  },
  {
   "cell_type": "markdown",
   "id": "545d784e",
   "metadata": {},
   "source": [
    "* c. raise"
   ]
  },
  {
   "cell_type": "markdown",
   "id": "f3351131",
   "metadata": {},
   "source": [
    "the raise statement is used when we handle exceptions using custom exception handling"
   ]
  },
  {
   "cell_type": "code",
   "execution_count": 15,
   "id": "260a3528",
   "metadata": {},
   "outputs": [],
   "source": [
    "class new_exception(Exception) :\n",
    "    \n",
    "    def __init__(self , exceptionn) :\n",
    "        self.exceptionn = exceptionn\n",
    "        "
   ]
  },
  {
   "cell_type": "code",
   "execution_count": 18,
   "id": "38ca1d6b",
   "metadata": {},
   "outputs": [],
   "source": [
    "def check_runtime(typee):\n",
    "    \n",
    "    if len(typee) <= 1 :\n",
    "        raise new_exception(\"please enter name properly\")\n",
    "    \n",
    "    elif len(typee) <= 12 :\n",
    "        raise new_exception(\"your name cannot be this much small\")\n",
    "    \n",
    "    elif len(typee) >= 20 :\n",
    "        raise new_exception(\"your name cannot be this much large\")\n",
    "        \n",
    "    else :\n",
    "        print(\"you have entered correct value \")"
   ]
  },
  {
   "cell_type": "code",
   "execution_count": 20,
   "id": "80ac7743",
   "metadata": {},
   "outputs": [
    {
     "name": "stdout",
     "output_type": "stream",
     "text": [
      "please enter your name : gauraaaaa\n",
      "your name cannot be this much small\n"
     ]
    }
   ],
   "source": [
    "try :\n",
    "    strr = input(\"please enter your name : \")\n",
    "    check_runtime(strr)\n",
    "    \n",
    "except new_exception as e :\n",
    "    print(e)"
   ]
  },
  {
   "cell_type": "markdown",
   "id": "42dad241",
   "metadata": {},
   "source": [
    "# Q5. Soln."
   ]
  },
  {
   "cell_type": "markdown",
   "id": "da0e8792",
   "metadata": {},
   "source": [
    "the custom exceptions are nothing but the exceptions which are created by the user in order to handle the runtime errors and exception handling .\n"
   ]
  },
  {
   "cell_type": "code",
   "execution_count": 24,
   "id": "5890df06",
   "metadata": {},
   "outputs": [
    {
     "name": "stdout",
     "output_type": "stream",
     "text": [
      "please enter marks :56\n",
      "you can fill form as you are eligible for exams\n"
     ]
    }
   ],
   "source": [
    "# example of custom exception\n",
    "\n",
    "class exception_val(Exception) :\n",
    "    \n",
    "    def __init__(self , exceptionn) :\n",
    "        self.exceptionn = exceptionn\n",
    "\n",
    "def exceptionn_ck(val):\n",
    "    \n",
    "    if marks < 35 :\n",
    "        raise exception_val(\"you're anot eligible for the exams\")\n",
    "        \n",
    "    else :\n",
    "        print(\"you can fill form as you are eligible for exams\")\n",
    "        \n",
    "        \n",
    "try :\n",
    "    marks = int(input(\"please enter marks :\"))\n",
    "    exceptionn_ck(val)\n",
    "    \n",
    "except exception_val as e :\n",
    "    print(e)"
   ]
  },
  {
   "cell_type": "markdown",
   "id": "0970fc8c",
   "metadata": {},
   "source": [
    "here in above block of code we have created an custom exception class by inheriting the properties of Exception class and also raise the exception if the student has marks < 35 and we have checked that if the condition is met or not by using the if else loop and for exception handling we have used the try and except block where in except block we have use our custom exception handling class which is named as exception_val"
   ]
  },
  {
   "cell_type": "markdown",
   "id": "0c534fbb",
   "metadata": {},
   "source": [
    "# Q6. Soln."
   ]
  },
  {
   "cell_type": "code",
   "execution_count": 25,
   "id": "b887a1aa",
   "metadata": {},
   "outputs": [
    {
     "name": "stdout",
     "output_type": "stream",
     "text": [
      "please enter the year of the model of the car1992\n",
      "the car is no more be in use according to the laws\n"
     ]
    }
   ],
   "source": [
    "class exception_6(Exception):\n",
    "    \n",
    "    def __init__(self , msg) :\n",
    "        self.msg = msg\n",
    "        \n",
    "def use_custom(model_year) :\n",
    "    \n",
    "    if model_year <= 2002 :\n",
    "        raise exception_6(\"the car is no more be in use according to the laws\")\n",
    "        \n",
    "    elif model_year >= 2003 and model_year <= 2013 :\n",
    "        raise exception_6(\"the car can be used currently but after five year will not be alllowed\")\n",
    "        \n",
    "    else :\n",
    "        print(\"currently you can drive this car and expiry is very far of this vehicle\")\n",
    "        \n",
    "\n",
    "try :\n",
    "    \n",
    "    model_year = int(input(\"please enter the year of the model of the car\"))\n",
    "    use_custom(model_year)\n",
    "    \n",
    "except exception_6 as e :\n",
    "    print(e)"
   ]
  },
  {
   "cell_type": "code",
   "execution_count": null,
   "id": "467dd8ff",
   "metadata": {},
   "outputs": [],
   "source": []
  }
 ],
 "metadata": {
  "kernelspec": {
   "display_name": "Python 3 (ipykernel)",
   "language": "python",
   "name": "python3"
  },
  "language_info": {
   "codemirror_mode": {
    "name": "ipython",
    "version": 3
   },
   "file_extension": ".py",
   "mimetype": "text/x-python",
   "name": "python",
   "nbconvert_exporter": "python",
   "pygments_lexer": "ipython3",
   "version": "3.9.13"
  }
 },
 "nbformat": 4,
 "nbformat_minor": 5
}
