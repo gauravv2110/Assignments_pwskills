{
 "cells": [
  {
   "cell_type": "markdown",
   "id": "8019a02b",
   "metadata": {},
   "source": [
    "# Q1. Soln. "
   ]
  },
  {
   "cell_type": "markdown",
   "id": "7648b397",
   "metadata": {},
   "source": [
    "Abstraction in oops : \n",
    "\n",
    "Abstraction is one of the key concepts of object-oriented programming (OOP) languages. Its main goal is to handle complexity by hiding unnecessary details from the user. That enables the user to implement more complex logic on top of the provided abstraction without understanding or even thinking about all the hidden complexity.\n",
    "\n",
    "That’s a very generic concept that’s not limited to object-oriented programming. You can find it everywhere in the real world.\n",
    "\n",
    "Ex. of abstraction :\n",
    "\n",
    "we all use the social platforms and contact our friends, chat, share images etc., but we don’t know how these operations are happening in the background so here the complexity of the task is hidden from the end users."
   ]
  },
  {
   "cell_type": "markdown",
   "id": "d03c82c2",
   "metadata": {},
   "source": [
    "# Q2. Soln."
   ]
  },
  {
   "cell_type": "markdown",
   "id": "67ab1ca0",
   "metadata": {},
   "source": [
    "Abstraction :\n",
    "\n",
    "Abstraction is one of the key concepts of object-oriented programming (OOP) languages. Its main goal is to handle complexity by hiding unnecessary details from the user. That enables the user to implement more complex logic on top of the provided abstraction without understanding or even thinking about all the hidden complexity.\n",
    "\n",
    "Encapsulation :\n",
    "\n",
    "Encapsulation is binding the data members with member variables. This will avoid the direct access of variables, because direct access of variables may violate privacy, and hiding of the implementation will not be possible.\n",
    "\n",
    "Difference Between Abstraction and Encapsulation :\n",
    "\n",
    "Abstraction is hiding the details and implementation of the code.\n",
    "\n",
    "Encapsulation is hiding the data and controlling the visibility of the code."
   ]
  },
  {
   "cell_type": "markdown",
   "id": "af288a64",
   "metadata": {},
   "source": [
    "# Q3. Soln."
   ]
  },
  {
   "cell_type": "markdown",
   "id": "699e02c7",
   "metadata": {},
   "source": [
    "The use of the abc module in python :\n",
    "\n",
    "The abc stands for abstract base class.\n",
    "\n",
    "The main goal of the abstract base class is to provide a standardized way to test whether an object supports to a given specification. It can also prevent any attempt to instantiate a subclass that doesn’t override a particular method in the superclass. And finally, using an abstract class, a class can derive identity from another class without any object inheritance."
   ]
  },
  {
   "cell_type": "markdown",
   "id": "1a9badf3",
   "metadata": {},
   "source": [
    "# Q4. Soln."
   ]
  },
  {
   "cell_type": "markdown",
   "id": "9bbc5b8b",
   "metadata": {},
   "source": [
    " In Python, abstraction can be achieved by having/using abstract classes and methods in our programs.\n",
    " \n",
    "An abstract method is a method that is declared, but does not contain implementation. An abstract method in a base class identifies the functionality that should be implemented by all its subclasses. However, since the implementation of an abstract method would differ from one subclass to another, often the method body comprises just a pass statement. Every subclass of the base class will ride this method with its implementation. A class containing abstract methods is called abstract class.Python provides the abc module to use the abstraction in the Python program, syntax as:\n",
    "\n",
    "\n",
    "from abc import ABC,   \n",
    "class ClassName(ABC):"
   ]
  },
  {
   "cell_type": "markdown",
   "id": "583ea0af",
   "metadata": {},
   "source": [
    "# Q5. Soln."
   ]
  },
  {
   "cell_type": "markdown",
   "id": "e19d9482",
   "metadata": {},
   "source": [
    "Abstract classes cannot be instantiated, but they can be subclassed.\n",
    "\n",
    "Abstract classes are not complete, as they may have some methods that are not defined. So we cannot create an instance or object of an abstract class in Python."
   ]
  },
  {
   "cell_type": "code",
   "execution_count": null,
   "id": "f6224cef",
   "metadata": {},
   "outputs": [],
   "source": []
  }
 ],
 "metadata": {
  "kernelspec": {
   "display_name": "Python 3 (ipykernel)",
   "language": "python",
   "name": "python3"
  },
  "language_info": {
   "codemirror_mode": {
    "name": "ipython",
    "version": 3
   },
   "file_extension": ".py",
   "mimetype": "text/x-python",
   "name": "python",
   "nbconvert_exporter": "python",
   "pygments_lexer": "ipython3",
   "version": "3.9.13"
  }
 },
 "nbformat": 4,
 "nbformat_minor": 5
}
