{
 "cells": [
  {
   "cell_type": "markdown",
   "id": "40ce2de5",
   "metadata": {},
   "source": [
    "# Q1. Soln."
   ]
  },
  {
   "cell_type": "code",
   "execution_count": 6,
   "id": "8bde6ecf",
   "metadata": {},
   "outputs": [
    {
     "name": "stdout",
     "output_type": "stream",
     "text": [
      " Enter the percentage : 67\n",
      " Grade : C \n"
     ]
    }
   ],
   "source": [
    "percent = int(input(\" Enter the percentage : \"))\n",
    "\n",
    "if percent > 90 :\n",
    "    print(\" Grade : A \")\n",
    "elif percent >80 and percent <= 90 :\n",
    "    print(\" Grade : B \")\n",
    "elif percent >= 60 and percent <= 80 :\n",
    "    print(\" Grade : C \")\n",
    "else :\n",
    "    print(\" Grade : D \")\n",
    "\n",
    "    "
   ]
  },
  {
   "cell_type": "markdown",
   "id": "6ab90809",
   "metadata": {},
   "source": [
    "# Q2. Soln."
   ]
  },
  {
   "cell_type": "code",
   "execution_count": 15,
   "id": "0aafb0d2",
   "metadata": {},
   "outputs": [
    {
     "name": "stdout",
     "output_type": "stream",
     "text": [
      " Enter the cost price of the bike : -10000\n",
      " The road tax to be paid is : 5% \n"
     ]
    }
   ],
   "source": [
    "cp_bike = int(input(\" Enter the cost price of the bike : \"))\n",
    "\n",
    "if cp_bike > 100000 :\n",
    "    print(\" The road tax to be paid is : 15% \")\n",
    "elif cp_bike > 50000 and cp_bike <= 100000 :\n",
    "    print(\" The road tax to be paid is : 10% \")\n",
    "elif cp_bike <= 50000 :\n",
    "    print(\" The road tax to be paid is : 5% \")"
   ]
  },
  {
   "cell_type": "markdown",
   "id": "70d17772",
   "metadata": {},
   "source": [
    "# Q3. Soln. "
   ]
  },
  {
   "cell_type": "code",
   "execution_count": 17,
   "id": "d0fdb982",
   "metadata": {},
   "outputs": [
    {
     "name": "stdout",
     "output_type": "stream",
     "text": [
      " Enter the name of the city : Pune\n",
      " Enter only one of the given cities in the block of code . \n"
     ]
    }
   ],
   "source": [
    "city = str(input(\" Enter the name of the city : \"))\n",
    "\n",
    "if city == \"Delhi\" :\n",
    "    print(\" Monument : Red Fort \")\n",
    "elif city == \"Agra\" :\n",
    "    print(\" Monument : Taj Mahal \")\n",
    "elif city == \"Jaipur\" :\n",
    "    print(\" Monument : Jal Mahal \")\n",
    "else :\n",
    "    print(\" Enter only one of the given cities in the block of code . \")"
   ]
  },
  {
   "cell_type": "markdown",
   "id": "936cfd34",
   "metadata": {},
   "source": [
    "# Q4. Soln."
   ]
  },
  {
   "cell_type": "code",
   "execution_count": 55,
   "id": "9c413395",
   "metadata": {},
   "outputs": [
    {
     "name": "stdout",
     "output_type": "stream",
     "text": [
      " Enter the Number : 999\n",
      " 5 times the no. is divisible by 3 \n"
     ]
    }
   ],
   "source": [
    "num = int(input(\" Enter the Number : \"))\n",
    "i = 0\n",
    "\n",
    "while num > 10 :\n",
    "    num = num / 3\n",
    "    i = i + 1\n",
    "print(\"\",i,\"times the no. is divisible by 3 \")\n",
    "    "
   ]
  },
  {
   "cell_type": "markdown",
   "id": "297e6d75",
   "metadata": {},
   "source": [
    "# Q5. Soln."
   ]
  },
  {
   "cell_type": "code",
   "execution_count": 23,
   "id": "a5359159",
   "metadata": {},
   "outputs": [
    {
     "name": "stdout",
     "output_type": "stream",
     "text": [
      " Enter the no. : 12\n",
      "0\n",
      "1\n",
      "2\n",
      "3\n",
      "4\n",
      "5\n",
      "6\n",
      "7\n",
      "8\n",
      "9\n",
      "10\n",
      "11\n",
      "12\n"
     ]
    }
   ],
   "source": [
    "The While loop in python is executed util the given condition does not become false but if we talk about the For loop ,\n",
    "It is used when we need to iterate the elements of any iterable object like list , tuple , etc .\n",
    "\n",
    "Syntax for the While loop ==>  while condition :\n",
    "                                     block of statements to be executed \n",
    "                                     counter = counter + 1\n",
    "        \n",
    "Ex. of while loop : print no. from 0 to n( user input ) using while loop\n",
    "\n",
    "i = 0\n",
    "num_1 = int(input(\" Enter the no. : \" ))\n",
    "    \n",
    "while i <= num_1 :\n",
    "        print(i)\n",
    "        i = i+ 1\n",
    "\n",
    "Here the no. will start printing from 0 and will stop when the no. is less than or equal to user input and when the given \n",
    "condition becomes false then interpreter will come out of the loop "
   ]
  },
  {
   "cell_type": "markdown",
   "id": "3605965f",
   "metadata": {},
   "source": [
    "# Q6. Soln."
   ]
  },
  {
   "cell_type": "code",
   "execution_count": 45,
   "id": "6c350800",
   "metadata": {},
   "outputs": [
    {
     "name": "stdout",
     "output_type": "stream",
     "text": [
      "\n",
      " Pattern no. 1 \n",
      "\n",
      "*\n",
      "**\n",
      "***\n",
      "****\n",
      "*****\n",
      "\n",
      " Pattern no. 2 \n",
      "\n",
      "*****\n",
      "****\n",
      "***\n",
      "**\n",
      "*\n",
      "\n",
      " Pattern no. 3 \n",
      "\n",
      "    *\n",
      "   **\n",
      "  ***\n",
      " ****\n",
      "*****\n"
     ]
    }
   ],
   "source": [
    "print(\"\\n Pattern no. 1 \\n\")\n",
    "1. Patter no. 1\n",
    "\n",
    "max_rows = 5\n",
    "i = 1\n",
    "\n",
    "while i <= max_rows :\n",
    "    print(\"*\"*i)\n",
    "    i = i + 1\n",
    "    \n",
    "\n",
    "print(\"\\n Pattern no. 2 \\n\")\n",
    "2. Patter no. 2\n",
    "\n",
    "max_rows = 5\n",
    "i = 1\n",
    "\n",
    "while max_rows >= i :\n",
    "    print(\"*\"*max_rows)\n",
    "    max_rows = max_rows - 1\n",
    "\n",
    "print(\"\\n Pattern no. 3 \\n\")\n",
    "3. pattern no. 3\n",
    "\n",
    "max_rows = 5\n",
    "i = 1\n",
    "\n",
    "while i <= max_rows :\n",
    "    print(\" \" * (max_rows-i) + \"*\" * i)\n",
    "    i = i + 1\n",
    "    \n",
    "    \n"
   ]
  },
  {
   "cell_type": "markdown",
   "id": "965b18a5",
   "metadata": {},
   "source": [
    "# Q7. Soln. "
   ]
  },
  {
   "cell_type": "code",
   "execution_count": 46,
   "id": "4b98e1c3",
   "metadata": {},
   "outputs": [
    {
     "name": "stdout",
     "output_type": "stream",
     "text": [
      "10\n",
      "9\n",
      "8\n",
      "7\n",
      "6\n",
      "5\n",
      "4\n",
      "3\n",
      "2\n",
      "1\n"
     ]
    }
   ],
   "source": [
    "numberr = 10 \n",
    "i = 1\n",
    "\n",
    "while numberr >= i :\n",
    "    print(numberr)\n",
    "    numberr = numberr - 1"
   ]
  },
  {
   "cell_type": "markdown",
   "id": "76036e30",
   "metadata": {},
   "source": [
    "# Q8. Soln."
   ]
  },
  {
   "cell_type": "code",
   "execution_count": 48,
   "id": "bdae172e",
   "metadata": {},
   "outputs": [
    {
     "name": "stdout",
     "output_type": "stream",
     "text": [
      "10\n",
      "9\n",
      "8\n",
      "7\n",
      "6\n",
      "5\n",
      "4\n",
      "3\n",
      "2\n",
      "1\n"
     ]
    }
   ],
   "source": [
    "numberr = 10 \n",
    "i = 1\n",
    "\n",
    "while numberr >= i :\n",
    "    print(numberr)\n",
    "    numberr = numberr - 1"
   ]
  },
  {
   "cell_type": "code",
   "execution_count": null,
   "id": "336bb922",
   "metadata": {},
   "outputs": [],
   "source": []
  }
 ],
 "metadata": {
  "kernelspec": {
   "display_name": "Python 3 (ipykernel)",
   "language": "python",
   "name": "python3"
  },
  "language_info": {
   "codemirror_mode": {
    "name": "ipython",
    "version": 3
   },
   "file_extension": ".py",
   "mimetype": "text/x-python",
   "name": "python",
   "nbconvert_exporter": "python",
   "pygments_lexer": "ipython3",
   "version": "3.9.13"
  }
 },
 "nbformat": 4,
 "nbformat_minor": 5
}
