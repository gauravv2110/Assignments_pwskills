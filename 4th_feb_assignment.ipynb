{
 "cells": [
  {
   "cell_type": "markdown",
   "id": "1f924926",
   "metadata": {},
   "source": [
    "# Q1. Soln."
   ]
  },
  {
   "cell_type": "code",
   "execution_count": 2,
   "id": "47f6b352",
   "metadata": {},
   "outputs": [
    {
     "name": "stdout",
     "output_type": "stream",
     "text": [
      "[('Virat Kohli', 24936), ('Jack Kallis', 25534), ('Ricky Ponting', 27483), ('Sachin Tendulkar', 34357)]\n"
     ]
    }
   ],
   "source": [
    "l = [('Sachin Tendulkar', 34357), ('Ricky Ponting', 27483), ('Jack Kallis', 25534), ('Virat Kohli', 24936)]\n",
    "\n",
    "l_sorted = sorted(l , key = lambda l : l[1])\n",
    "print(l_sorted)"
   ]
  },
  {
   "cell_type": "markdown",
   "id": "95e2c44a",
   "metadata": {},
   "source": [
    "# Q2. Soln."
   ]
  },
  {
   "cell_type": "code",
   "execution_count": 4,
   "id": "0db0f397",
   "metadata": {},
   "outputs": [
    {
     "data": {
      "text/plain": [
       "[1, 4, 9, 16, 25, 36, 49, 64, 81, 100]"
      ]
     },
     "execution_count": 4,
     "metadata": {},
     "output_type": "execute_result"
    }
   ],
   "source": [
    "l1 = [1, 2, 3, 4, 5, 6, 7, 8, 9, 10]\n",
    "\n",
    "list(map(lambda x : x ** 2 , l1))"
   ]
  },
  {
   "cell_type": "markdown",
   "id": "fe1dc354",
   "metadata": {},
   "source": [
    "# Q3. Soln."
   ]
  },
  {
   "cell_type": "code",
   "execution_count": 7,
   "id": "1c3c352b",
   "metadata": {},
   "outputs": [
    {
     "data": {
      "text/plain": [
       "('1', '2', '3', '4', '5', '6', '7', '8', '9', '10')"
      ]
     },
     "execution_count": 7,
     "metadata": {},
     "output_type": "execute_result"
    }
   ],
   "source": [
    "l2 = [1, 2, 3, 4, 5, 6, 7, 8, 9, 10]\n",
    "\n",
    "tuple(map(lambda x : str(x) , l2))\n"
   ]
  },
  {
   "cell_type": "markdown",
   "id": "342a06fb",
   "metadata": {},
   "source": [
    "# Q4. Soln."
   ]
  },
  {
   "cell_type": "code",
   "execution_count": 13,
   "id": "33a0a02e",
   "metadata": {},
   "outputs": [
    {
     "data": {
      "text/plain": [
       "15511210043330985984000000"
      ]
     },
     "execution_count": 13,
     "metadata": {},
     "output_type": "execute_result"
    }
   ],
   "source": [
    "from functools import reduce\n",
    "l3 = []\n",
    "\n",
    "for i in range (1,26) :\n",
    "    l3.append(i)\n",
    "reduce(lambda x , y : x * y , l3)"
   ]
  },
  {
   "cell_type": "markdown",
   "id": "a5055f08",
   "metadata": {},
   "source": [
    "# Q5. Soln."
   ]
  },
  {
   "cell_type": "code",
   "execution_count": 37,
   "id": "a9da93a4",
   "metadata": {},
   "outputs": [
    {
     "data": {
      "text/plain": [
       "[6, 60, 90, 120]"
      ]
     },
     "execution_count": 37,
     "metadata": {},
     "output_type": "execute_result"
    }
   ],
   "source": [
    "l4 = [2, 3, 6, 9, 27, 60, 90, 120, 55, 46]\n",
    "\n",
    "def div(i) :\n",
    "    if i%2 == 0 and i%3 == 0 :\n",
    "        return i\n",
    "    \n",
    "list(filter(div,l4))"
   ]
  },
  {
   "cell_type": "markdown",
   "id": "99009c20",
   "metadata": {},
   "source": [
    "# Q6. Soln."
   ]
  },
  {
   "cell_type": "code",
   "execution_count": 77,
   "id": "889d7ab9",
   "metadata": {},
   "outputs": [
    {
     "data": {
      "text/plain": [
       "['php', 'aba', 'radar', 'level']"
      ]
     },
     "execution_count": 77,
     "metadata": {},
     "output_type": "execute_result"
    }
   ],
   "source": [
    "strr = ['python', 'php', 'aba', 'radar', 'level']\n",
    "\n",
    "list(filter(lambda x : x == x[::-1] , strr))"
   ]
  },
  {
   "cell_type": "code",
   "execution_count": null,
   "id": "471c611c",
   "metadata": {},
   "outputs": [],
   "source": []
  }
 ],
 "metadata": {
  "kernelspec": {
   "display_name": "Python 3 (ipykernel)",
   "language": "python",
   "name": "python3"
  },
  "language_info": {
   "codemirror_mode": {
    "name": "ipython",
    "version": 3
   },
   "file_extension": ".py",
   "mimetype": "text/x-python",
   "name": "python",
   "nbconvert_exporter": "python",
   "pygments_lexer": "ipython3",
   "version": "3.9.13"
  }
 },
 "nbformat": 4,
 "nbformat_minor": 5
}
