{
 "cells": [
  {
   "cell_type": "markdown",
   "id": "35571758",
   "metadata": {},
   "source": [
    "# Q1. Soln."
   ]
  },
  {
   "cell_type": "code",
   "execution_count": 2,
   "id": "ae730636",
   "metadata": {},
   "outputs": [],
   "source": [
    "Guido van Rossum developed the python language in 1991 and was first released on 20 february 1991 ."
   ]
  },
  {
   "cell_type": "markdown",
   "id": "5a19b0f3",
   "metadata": {},
   "source": [
    "# Q2. Soln."
   ]
  },
  {
   "cell_type": "code",
   "execution_count": 3,
   "id": "6075dc84",
   "metadata": {},
   "outputs": [],
   "source": [
    "Python is an interpreted programming language , supporting object-oriented , structured , and functional programming ."
   ]
  },
  {
   "cell_type": "markdown",
   "id": "28911985",
   "metadata": {},
   "source": [
    "# Q3. Soln."
   ]
  },
  {
   "cell_type": "code",
   "execution_count": 5,
   "id": "af5bbea4",
   "metadata": {},
   "outputs": [
    {
     "name": "stdout",
     "output_type": "stream",
     "text": [
      "5 10\n"
     ]
    }
   ],
   "source": [
    "a = 5\n",
    "A = 10\n",
    "print(a,A)\n",
    "\n",
    "From above block of code we can say that python is case sensitive language ."
   ]
  },
  {
   "cell_type": "markdown",
   "id": "f5f0bda8",
   "metadata": {},
   "source": [
    "# Q4. Soln."
   ]
  },
  {
   "cell_type": "code",
   "execution_count": 6,
   "id": "f40de3c3",
   "metadata": {},
   "outputs": [],
   "source": [
    ".py is the correct extension for the python file ."
   ]
  },
  {
   "cell_type": "markdown",
   "id": "a7325213",
   "metadata": {},
   "source": [
    "# Q5. Soln."
   ]
  },
  {
   "cell_type": "code",
   "execution_count": 7,
   "id": "4fc0a273",
   "metadata": {},
   "outputs": [],
   "source": [
    "Python code is both compiled as well as interpreted ."
   ]
  },
  {
   "cell_type": "markdown",
   "id": "b9c7b1e9",
   "metadata": {},
   "source": [
    "# Q6. Soln"
   ]
  },
  {
   "cell_type": "code",
   "execution_count": 8,
   "id": "80b89753",
   "metadata": {},
   "outputs": [],
   "source": [
    "Indentation is used to define the block of code in the python language ."
   ]
  },
  {
   "cell_type": "markdown",
   "id": "a2079502",
   "metadata": {},
   "source": [
    "# Q7. Soln."
   ]
  },
  {
   "cell_type": "code",
   "execution_count": 9,
   "id": "4a929c90",
   "metadata": {},
   "outputs": [],
   "source": [
    "\"#\" Hash symbol is used to define comments in the python language ."
   ]
  },
  {
   "cell_type": "markdown",
   "id": "2e85c087",
   "metadata": {},
   "source": [
    "# Q8. Soln."
   ]
  },
  {
   "cell_type": "code",
   "execution_count": 16,
   "id": "7bd9ff26",
   "metadata": {},
   "outputs": [
    {
     "data": {
      "text/plain": [
       "'3.9.13'"
      ]
     },
     "execution_count": 16,
     "metadata": {},
     "output_type": "execute_result"
    }
   ],
   "source": [
    "python_version() is the function used to find the version of the python but for this we have to import platform module\n",
    "\n",
    "import platform\n",
    "platform.python_version()"
   ]
  },
  {
   "cell_type": "markdown",
   "id": "4e23b2c7",
   "metadata": {},
   "source": [
    "# Q9. Soln."
   ]
  },
  {
   "cell_type": "code",
   "execution_count": 18,
   "id": "9d9933cf",
   "metadata": {},
   "outputs": [],
   "source": [
    "Python supports to make anonymous functions which are not bound to a name at runtime by using a construct called \"lambda\" ."
   ]
  },
  {
   "cell_type": "markdown",
   "id": "3f62a95d",
   "metadata": {},
   "source": [
    "# Q10. Soln."
   ]
  },
  {
   "cell_type": "code",
   "execution_count": 19,
   "id": "3bf664a0",
   "metadata": {},
   "outputs": [],
   "source": [
    "pip in the python programming language stands for \"preferred installer program\" ."
   ]
  },
  {
   "cell_type": "markdown",
   "id": "a07dd109",
   "metadata": {},
   "source": [
    "# Q11. Soln."
   ]
  },
  {
   "cell_type": "code",
   "execution_count": 20,
   "id": "d540f5d2",
   "metadata": {},
   "outputs": [],
   "source": [
    "Few Built-in Functions in python are :\n",
    "\n",
    "1. print()\n",
    "2. type()\n",
    "3. list()\n",
    "4. sum() \n"
   ]
  },
  {
   "cell_type": "markdown",
   "id": "60d6926b",
   "metadata": {},
   "source": [
    "# Q12. Soln."
   ]
  },
  {
   "cell_type": "code",
   "execution_count": 21,
   "id": "8bd0a26b",
   "metadata": {},
   "outputs": [],
   "source": [
    "Identifier's maximum length in the python language is 79 characters ."
   ]
  },
  {
   "cell_type": "markdown",
   "id": "555ffa82",
   "metadata": {},
   "source": [
    "# Q13. Soln."
   ]
  },
  {
   "cell_type": "code",
   "execution_count": 23,
   "id": "86a3a45b",
   "metadata": {},
   "outputs": [],
   "source": [
    "The python language is having way more \"Simple syntax\" than other languages , the python language also provide \n",
    "\"Large number of libraries\" which make it more powerful and also the python is \"Dynamically typed language\" and also it's \n",
    "very flexible for machine learning and deep learning , etc projects and also it's  \"Free and open-source language\" ."
   ]
  },
  {
   "cell_type": "markdown",
   "id": "e9bb72ed",
   "metadata": {},
   "source": [
    "# Q14. Soln."
   ]
  },
  {
   "cell_type": "code",
   "execution_count": 24,
   "id": "2f2aff88",
   "metadata": {},
   "outputs": [],
   "source": [
    "Memory management in Python involves a private heap containing all Python objects and data structures. \n",
    "The management of this private heap is ensured internally by the Python memory manager."
   ]
  },
  {
   "cell_type": "markdown",
   "id": "9d55b5f4",
   "metadata": {},
   "source": [
    "# Q15. Soln."
   ]
  },
  {
   "cell_type": "code",
   "execution_count": 26,
   "id": "c7eb3d9e",
   "metadata": {},
   "outputs": [],
   "source": [
    "The complete path of python.exe can be added by:\n",
    "\n",
    "step1. Right-clicking This PC and going to Properties.\n",
    "\n",
    "step2. Clicking on the Advanced system settings in the menu on the left.\n",
    "\n",
    "step3. Clicking on the Environment Variables button on the bottom right.\n",
    "\n",
    "step4. In the System variables section, selecting the Path variable and clicking on Edit. The next screen will show all the \n",
    "       directories that are currently a part of the PATH variable.\n",
    "\n",
    "step5. Clicking on New and entering Python’s install directory.\n",
    "\n",
    "Python can now be used directly from the command prompt without having to write its location. \n",
    "Try executing the command python --version; it will output the version of Python installed on your system."
   ]
  },
  {
   "cell_type": "markdown",
   "id": "d0e31ec2",
   "metadata": {},
   "source": [
    "# Q16. Soln. "
   ]
  },
  {
   "cell_type": "code",
   "execution_count": 27,
   "id": "f2c6d10e",
   "metadata": {},
   "outputs": [],
   "source": [
    "Yes , Indentation is neccessary in the python language and it's very importatnt as it is used to indicate the block of statement ."
   ]
  },
  {
   "cell_type": "code",
   "execution_count": null,
   "id": "c63e5245",
   "metadata": {},
   "outputs": [],
   "source": []
  }
 ],
 "metadata": {
  "kernelspec": {
   "display_name": "Python 3 (ipykernel)",
   "language": "python",
   "name": "python3"
  },
  "language_info": {
   "codemirror_mode": {
    "name": "ipython",
    "version": 3
   },
   "file_extension": ".py",
   "mimetype": "text/x-python",
   "name": "python",
   "nbconvert_exporter": "python",
   "pygments_lexer": "ipython3",
   "version": "3.9.13"
  }
 },
 "nbformat": 4,
 "nbformat_minor": 5
}
