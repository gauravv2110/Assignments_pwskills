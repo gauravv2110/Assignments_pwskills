{
 "cells": [
  {
   "cell_type": "markdown",
   "id": "6f1632cc",
   "metadata": {},
   "source": [
    "# Q1. Soln. "
   ]
  },
  {
   "cell_type": "code",
   "execution_count": 9,
   "id": "2ddc301e",
   "metadata": {},
   "outputs": [
    {
     "name": "stdout",
     "output_type": "stream",
     "text": [
      " The for loop execution starts from here \n",
      "\n",
      "0\n",
      "1\n",
      "2\n",
      "3\n",
      "4\n",
      "5\n",
      "6\n",
      "7\n",
      "8\n",
      "9\n",
      " The for loop execution ends here \n",
      "\n",
      " The while loop execution starts from here \n",
      "7\n",
      "14\n",
      "21\n",
      "28\n",
      "35\n",
      "42\n",
      "49\n",
      "56\n",
      "63\n",
      "70\n",
      " The while loop execution ends here \n"
     ]
    }
   ],
   "source": [
    "for loop :\n",
    "\n",
    "The for loop is used when we already know the number of iterations, which means when we know how many times a statement \n",
    "has to be executed.\n",
    "\n",
    "Ex. of for loop : \n",
    "\n",
    "print(\" The for loop execution starts from here \\n\")\n",
    "for i in range(10) :\n",
    "    print(i)\n",
    "print(\" The for loop execution ends here \\n\")\n",
    "\n",
    "This for loop will run 10 times as we have given the no. of iterations to the given for loop and after that loop will \n",
    "terminate .\n",
    "\n",
    "and \n",
    "\n",
    "while loop :\n",
    "\n",
    "\n",
    "The while loop executes until and unless the given condtion is true and when the condition becames false the loop get's \n",
    "terminated .\n",
    "\n",
    "print(\" The while loop execution starts from here \")\n",
    "i , a = 1 , 7\n",
    "while i <= 10 :\n",
    "    print(a*i)\n",
    "    i = i + 1\n",
    "print(\" The while loop execution ends here \")\n",
    "    \n",
    "This while loop will also run 10 times as we have given condition that value of i shoul be less than or equal to 10 ."
   ]
  },
  {
   "cell_type": "markdown",
   "id": "c4f6e9ce",
   "metadata": {},
   "source": [
    "# Q2. Soln."
   ]
  },
  {
   "cell_type": "code",
   "execution_count": 14,
   "id": "1ccae1ae",
   "metadata": {},
   "outputs": [
    {
     "name": "stdout",
     "output_type": "stream",
     "text": [
      " The sum of first 10 natural no.s is :  55\n",
      " The product of first 10 natural no.s is :  3628800\n"
     ]
    }
   ],
   "source": [
    "i , maxx = 1 , 10 \n",
    "summ , product = 0 , 1\n",
    "\n",
    "while i <= maxx :\n",
    "    summ = summ + i\n",
    "    product = product * i \n",
    "    i = i + 1\n",
    "print(\" The sum of first 10 natural no.s is : \" , summ )\n",
    "print(\" The product of first 10 natural no.s is : \" , product )"
   ]
  },
  {
   "cell_type": "markdown",
   "id": "b13f6728",
   "metadata": {},
   "source": [
    "# Q3. Soln. "
   ]
  },
  {
   "cell_type": "code",
   "execution_count": 21,
   "id": "83ead65b",
   "metadata": {},
   "outputs": [
    {
     "name": "stdout",
     "output_type": "stream",
     "text": [
      " Enter the no. of units consumed in a month : 310\n",
      " Electric bill generated :  2250.0\n"
     ]
    }
   ],
   "source": [
    "units_elect = int(input(\" Enter the no. of units consumed in a month : \"))\n",
    "\n",
    "if units_elect <= 100 :\n",
    "    \n",
    "    bill_gener = units_elect * 4.5\n",
    "    print(\" Electric bill generated : \" , bill_gener )\n",
    "    \n",
    "elif units_elect <= 200 :\n",
    "    \n",
    "    bill_gener = (100 * 4.5) + ( units_elect- 100 ) * 6.0\n",
    "    print(\" Electric bill generated : \" , bill_gener ) \n",
    "    \n",
    "elif  units_elect < 300 :\n",
    "    \n",
    "    bill_gener = (100 * 4.5) + (100 * 6.0) +  ( units_elect- 200 ) * 10\n",
    "    print(\" Electric bill generated : \" , bill_gener )\n",
    "    \n",
    "else : \n",
    "    \n",
    "    bill_gener = (100 * 4.5) + (100 * 6.0) + (100 * 10) + ( units_elect- 300 ) * 20\n",
    "    print(\" Electric bill generated : \" , bill_gener )"
   ]
  },
  {
   "cell_type": "markdown",
   "id": "cdfb01c5",
   "metadata": {},
   "source": [
    "# Q4. Soln."
   ]
  },
  {
   "cell_type": "code",
   "execution_count": null,
   "id": "e20d5579",
   "metadata": {},
   "outputs": [],
   "source": [
    "l = []\n",
    "for i in range (1 , 101) :\n",
    "    l.append(i)\n",
    "l"
   ]
  },
  {
   "cell_type": "code",
   "execution_count": 34,
   "id": "f6ae6ddf",
   "metadata": {},
   "outputs": [
    {
     "data": {
      "text/plain": [
       "[1,\n",
       " 8,\n",
       " 27,\n",
       " 64,\n",
       " 125,\n",
       " 216,\n",
       " 343,\n",
       " 512,\n",
       " 729,\n",
       " 1000,\n",
       " 1331,\n",
       " 1728,\n",
       " 2197,\n",
       " 2744,\n",
       " 3375,\n",
       " 4096,\n",
       " 4913,\n",
       " 5832,\n",
       " 6859,\n",
       " 8000,\n",
       " 9261,\n",
       " 10648,\n",
       " 12167,\n",
       " 13824,\n",
       " 15625,\n",
       " 17576,\n",
       " 19683,\n",
       " 21952,\n",
       " 24389,\n",
       " 27000,\n",
       " 29791,\n",
       " 32768,\n",
       " 35937,\n",
       " 39304,\n",
       " 42875,\n",
       " 46656,\n",
       " 50653,\n",
       " 54872,\n",
       " 59319,\n",
       " 64000,\n",
       " 68921,\n",
       " 74088,\n",
       " 79507,\n",
       " 85184,\n",
       " 91125,\n",
       " 97336,\n",
       " 103823,\n",
       " 110592,\n",
       " 117649,\n",
       " 125000,\n",
       " 132651,\n",
       " 140608,\n",
       " 148877,\n",
       " 157464,\n",
       " 166375,\n",
       " 175616,\n",
       " 185193,\n",
       " 195112,\n",
       " 205379,\n",
       " 216000,\n",
       " 226981,\n",
       " 238328,\n",
       " 250047,\n",
       " 262144,\n",
       " 274625,\n",
       " 287496,\n",
       " 300763,\n",
       " 314432,\n",
       " 328509,\n",
       " 343000,\n",
       " 357911,\n",
       " 373248,\n",
       " 389017,\n",
       " 405224,\n",
       " 421875,\n",
       " 438976,\n",
       " 456533,\n",
       " 474552,\n",
       " 493039,\n",
       " 512000,\n",
       " 531441,\n",
       " 551368,\n",
       " 571787,\n",
       " 592704,\n",
       " 614125,\n",
       " 636056,\n",
       " 658503,\n",
       " 681472,\n",
       " 704969,\n",
       " 729000,\n",
       " 753571,\n",
       " 778688,\n",
       " 804357,\n",
       " 830584,\n",
       " 857375,\n",
       " 884736,\n",
       " 912673,\n",
       " 941192,\n",
       " 970299,\n",
       " 1000000]"
      ]
     },
     "execution_count": 34,
     "metadata": {},
     "output_type": "execute_result"
    }
   ],
   "source": [
    "lcube = []\n",
    "j = 0\n",
    "for i in l :\n",
    "    while j < 100 :\n",
    "        lcube.append(l[j]**3)\n",
    "        j = j + 1\n",
    "lcube"
   ]
  },
  {
   "cell_type": "code",
   "execution_count": 38,
   "id": "22d489dc",
   "metadata": {},
   "outputs": [],
   "source": [
    "import numpy as np"
   ]
  },
  {
   "cell_type": "code",
   "execution_count": 40,
   "id": "aac68991",
   "metadata": {},
   "outputs": [
    {
     "data": {
      "text/plain": [
       "[2.0,\n",
       " 4.0,\n",
       " 5.0,\n",
       " 6.0,\n",
       " 8.0,\n",
       " 10.0,\n",
       " 12.0,\n",
       " 14.0,\n",
       " 15.0,\n",
       " 16.0,\n",
       " 18.0,\n",
       " 20.0,\n",
       " 22.0,\n",
       " 24.0,\n",
       " 25.0,\n",
       " 26.0,\n",
       " 28.0,\n",
       " 30.0,\n",
       " 32.0,\n",
       " 34.0,\n",
       " 35.0,\n",
       " 36.0,\n",
       " 38.0,\n",
       " 40.0,\n",
       " 42.0,\n",
       " 44.0,\n",
       " 45.0,\n",
       " 46.0,\n",
       " 48.0,\n",
       " 50.0,\n",
       " 52.0,\n",
       " 54.0,\n",
       " 55.0,\n",
       " 56.0,\n",
       " 58.0,\n",
       " 60.0,\n",
       " 62.0,\n",
       " 64.0,\n",
       " 65.0,\n",
       " 66.0,\n",
       " 68.0,\n",
       " 70.0,\n",
       " 72.0,\n",
       " 74.0,\n",
       " 75.0,\n",
       " 76.0,\n",
       " 78.0,\n",
       " 80.0,\n",
       " 82.0,\n",
       " 84.0,\n",
       " 85.0,\n",
       " 86.0,\n",
       " 88.0,\n",
       " 90.0,\n",
       " 92.0,\n",
       " 94.0,\n",
       " 95.0,\n",
       " 96.0,\n",
       " 98.0,\n",
       " 100.0]"
      ]
     },
     "execution_count": 40,
     "metadata": {},
     "output_type": "execute_result"
    }
   ],
   "source": [
    "l2 = []\n",
    "for i in lcube :\n",
    "    if i%4 == 0 or i%5 == 0 :\n",
    "        l2.append(np.cbrt(i))\n",
    "l2"
   ]
  },
  {
   "cell_type": "markdown",
   "id": "bc00a348",
   "metadata": {},
   "source": [
    "# Q5. Soln."
   ]
  },
  {
   "cell_type": "code",
   "execution_count": 47,
   "id": "6cca4717",
   "metadata": {},
   "outputs": [
    {
     "name": "stdout",
     "output_type": "stream",
     "text": [
      " Th vowels present in the given string are :  12\n"
     ]
    }
   ],
   "source": [
    "string = \"I want to become a data scientiest\"\n",
    "count = 0 \n",
    "l = ['a','e','i','o','u']\n",
    "\n",
    "for i in string :\n",
    "    for j in l :\n",
    "        if i == j :\n",
    "            count = count + 1\n",
    "\n",
    "print(\" Th vowels present in the given string are : \" , count)\n",
    "    \n",
    "    "
   ]
  },
  {
   "cell_type": "code",
   "execution_count": null,
   "id": "35f612da",
   "metadata": {},
   "outputs": [],
   "source": []
  }
 ],
 "metadata": {
  "kernelspec": {
   "display_name": "Python 3 (ipykernel)",
   "language": "python",
   "name": "python3"
  },
  "language_info": {
   "codemirror_mode": {
    "name": "ipython",
    "version": 3
   },
   "file_extension": ".py",
   "mimetype": "text/x-python",
   "name": "python",
   "nbconvert_exporter": "python",
   "pygments_lexer": "ipython3",
   "version": "3.9.13"
  }
 },
 "nbformat": 4,
 "nbformat_minor": 5
}
