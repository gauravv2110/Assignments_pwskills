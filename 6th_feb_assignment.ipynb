{
 "cells": [
  {
   "cell_type": "markdown",
   "id": "ae5848b2",
   "metadata": {},
   "source": [
    "# Q1. Soln."
   ]
  },
  {
   "cell_type": "code",
   "execution_count": 92,
   "id": "edec85ab",
   "metadata": {},
   "outputs": [],
   "source": [
    "list1 = [1,2,3,4, [44,55,66, True], False, (34,56,78,89,34), {1,2,3,3,2,1}, {1:34, \"key2\": [55, 67, 78, 89], 4: (45,22, 61, 34)}\n",
    "         , [56, 'data science'], 'Machine Learning']\n",
    "    \n",
    "list2 = []\n",
    "\n",
    "def funnc(lis_inp) :\n",
    "\n",
    "    \n",
    "    for i in lis_inp :\n",
    "        \n",
    "        if type(i) is int :\n",
    "            list2.append(i)\n",
    "        \n",
    "        elif type(i) is float :\n",
    "            list2.append(j)\n",
    "        \n",
    "        elif type(i) is bool :\n",
    "            list2.append(j)\n",
    "        \n",
    "        elif type(i) is list :\n",
    "            for j in i :\n",
    "                list2.append(j)\n",
    "                \n",
    "        elif type(i) is tuple :\n",
    "            for j in i :\n",
    "                list2.append(j)\n",
    "       \n",
    "        elif type(i) is set :\n",
    "            for j in i :\n",
    "                list2.append(j)\n",
    "        \n",
    "        elif type(i) is dict :\n",
    "            dict1 = i\n",
    "            for j , k in dict1.items() :\n",
    "                \n",
    "                if type(j) is int :\n",
    "                    list2.append(j)\n",
    "                    \n",
    "                elif type(j) is str :\n",
    "                    list2.append(j)\n",
    "                \n",
    "                else :\n",
    "                    pass\n",
    "                \n",
    "                if type(k) is int :\n",
    "                    list2.append(k)\n",
    "                \n",
    "                elif type(k) is list :\n",
    "                    \n",
    "                    for l in k :\n",
    "                        list2.append(l)\n",
    "                        \n",
    "                elif type(k) is tuple :\n",
    "                    \n",
    "                    for l in k :\n",
    "                        list2.append(l)\n",
    "\n",
    "              \n",
    "                        \n",
    "        elif type(i) is str :\n",
    "            list2.append(i)\n",
    "        \n",
    "    \n",
    "        \n",
    "    return list2\n",
    "\n",
    "\n",
    "        "
   ]
  },
  {
   "cell_type": "code",
   "execution_count": 93,
   "id": "190fca77",
   "metadata": {},
   "outputs": [
    {
     "data": {
      "text/plain": [
       "[1,\n",
       " 2,\n",
       " 3,\n",
       " 4,\n",
       " 44,\n",
       " 55,\n",
       " 66,\n",
       " True,\n",
       " True,\n",
       " 34,\n",
       " 56,\n",
       " 78,\n",
       " 89,\n",
       " 34,\n",
       " 1,\n",
       " 2,\n",
       " 3,\n",
       " 1,\n",
       " 34,\n",
       " 'key2',\n",
       " 55,\n",
       " 67,\n",
       " 78,\n",
       " 89,\n",
       " 4,\n",
       " 45,\n",
       " 22,\n",
       " 61,\n",
       " 34,\n",
       " 56,\n",
       " 'data science',\n",
       " 'Machine Learning']"
      ]
     },
     "execution_count": 93,
     "metadata": {},
     "output_type": "execute_result"
    }
   ],
   "source": [
    "funnc(list11)"
   ]
  },
  {
   "cell_type": "code",
   "execution_count": 94,
   "id": "5f6167a2",
   "metadata": {},
   "outputs": [
    {
     "name": "stdout",
     "output_type": "stream",
     "text": [
      "[1, 2, 3, 4, 44, 55, 66, True, True, 34, 56, 78, 89, 34, 1, 2, 3, 1, 34, 'key2', 55, 67, 78, 89, 4, 45, 22, 61, 34, 56, 'data science', 'Machine Learning']\n"
     ]
    }
   ],
   "source": [
    "print(list2)"
   ]
  },
  {
   "cell_type": "code",
   "execution_count": 98,
   "id": "9e25497f",
   "metadata": {},
   "outputs": [
    {
     "name": "stdout",
     "output_type": "stream",
     "text": [
      "[1, 2, 3, 4, 44, 55, 66, 34, 56, 78, 89, 34, 1, 2, 3, 1, 34, 55, 67, 78, 89, 4, 45, 22, 61, 34, 56]\n"
     ]
    }
   ],
   "source": [
    "list_numeric = []\n",
    "\n",
    "for i in list2 :\n",
    "    if type(i) == int :\n",
    "        list_numeric.append(i)\n",
    "    elif type(i) == float :\n",
    "        list_numeric.append(i)\n",
    "print(list_numeric)"
   ]
  },
  {
   "cell_type": "code",
   "execution_count": 104,
   "id": "e899bfb7",
   "metadata": {},
   "outputs": [],
   "source": [
    "from functools import reduce"
   ]
  },
  {
   "cell_type": "code",
   "execution_count": 107,
   "id": "1b14fbcd",
   "metadata": {},
   "outputs": [
    {
     "name": "stdout",
     "output_type": "stream",
     "text": [
      "4134711838987085478833841242112000\n"
     ]
    }
   ],
   "source": [
    "print(reduce(lambda x , y : x * y , list_numeric))"
   ]
  },
  {
   "cell_type": "markdown",
   "id": "bb9e282f",
   "metadata": {},
   "source": [
    "# Q2. Soln."
   ]
  },
  {
   "cell_type": "code",
   "execution_count": 150,
   "id": "7022f655",
   "metadata": {},
   "outputs": [
    {
     "name": "stdout",
     "output_type": "stream",
     "text": [
      " Enter the string to be encrypted : I want to become a Data Scientist.\n",
      " \n",
      " The encrypted string is :  r$wzmg$gl$yvxlmv$z$wzgz$hxrvmgrhg.\n"
     ]
    }
   ],
   "source": [
    "inp = input(\" Enter the string to be encrypted : \")\n",
    "\n",
    "inpl = inp.lower()\n",
    "inpe = \"\"\n",
    "\n",
    "for i in inpl :\n",
    "    \n",
    "    if i == 'a' :\n",
    "        inpl = inpl.replace('a','z')\n",
    "    elif i == 'b' :\n",
    "        inpl = inpl.replace('b','y')\n",
    "    elif i == 'c' :\n",
    "        inpl = inpl.replace('c','x')\n",
    "    elif i == 'd' :\n",
    "        inpl = inpl.replace('d','w')\n",
    "    elif i == 'e' :\n",
    "        inpl = inpl.replace('e','v')\n",
    "    elif i == 'f' :\n",
    "        inpl = inpl.replace('f','u')\n",
    "    elif i == 'g' :\n",
    "        inpl = inpl.replace('g','t')\n",
    "    elif i == 'h' :\n",
    "        inpl = inpl.replace('h','s')\n",
    "    elif i == 'i' :\n",
    "        inpl = inpl.replace('i','r')\n",
    "    elif i == 'j' :\n",
    "        inpl = inpl.replace('j','q')\n",
    "    elif i == 'k' :\n",
    "        inpl = inpl.replace('k','p')\n",
    "    elif i == 'l' :\n",
    "        inpl = inpl.replace('l','o')\n",
    "    elif i == 'm' :\n",
    "        inpl = inpl.replace('m','n')\n",
    "    elif i == 'n' :\n",
    "        inpl = inpl.replace('n','m')\n",
    "    elif i == 'o' :\n",
    "        inpl = inpl.replace('o','l')\n",
    "    elif i == 'p' :\n",
    "        inpl = inpl.replace('p','k')\n",
    "    elif i == 'q' :\n",
    "        inpl = inpl.replace('q','j')\n",
    "    elif i == 'r' :\n",
    "        inpl = inpl.replace('r','i')\n",
    "    elif i == 's' :\n",
    "        inpl = inpl.replace('s','h')\n",
    "    elif i == 't' :\n",
    "        inpl = inpl.replace('t','g')\n",
    "    elif i == 'u' :\n",
    "        inpl = inpl.replace('u','f')\n",
    "    elif i == 'v' :\n",
    "        inpl = inpl.replace('v','e')\n",
    "    elif i == 'w' :\n",
    "        inpl = inpl.replace('w','d')\n",
    "    elif i == 'x' :\n",
    "        inpl = inpl.replace('x','c')\n",
    "    elif i == 'y' :\n",
    "        inpl = inpl.replace('y','b')\n",
    "    elif i == 'z' :\n",
    "        inpl = inpl.replace('z','a')\n",
    "    elif i == \" \":\n",
    "        inpl = inpl.replace(' ','$') \n",
    "\n",
    "\n",
    "    \n",
    "print(\" \\n The encrypted string is : \" , inpl)\n",
    "        "
   ]
  },
  {
   "cell_type": "code",
   "execution_count": null,
   "id": "ba6dffc9",
   "metadata": {},
   "outputs": [],
   "source": []
  }
 ],
 "metadata": {
  "kernelspec": {
   "display_name": "Python 3 (ipykernel)",
   "language": "python",
   "name": "python3"
  },
  "language_info": {
   "codemirror_mode": {
    "name": "ipython",
    "version": 3
   },
   "file_extension": ".py",
   "mimetype": "text/x-python",
   "name": "python",
   "nbconvert_exporter": "python",
   "pygments_lexer": "ipython3",
   "version": "3.9.13"
  }
 },
 "nbformat": 4,
 "nbformat_minor": 5
}
