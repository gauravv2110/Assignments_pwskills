{
 "cells": [
  {
   "cell_type": "markdown",
   "id": "a0d56085",
   "metadata": {},
   "source": [
    "# Q1. Soln."
   ]
  },
  {
   "cell_type": "code",
   "execution_count": 2,
   "id": "29ce7222",
   "metadata": {},
   "outputs": [
    {
     "data": {
      "text/plain": [
       "' Hello pwskills assignments checker how are you '"
      ]
     },
     "execution_count": 2,
     "metadata": {},
     "output_type": "execute_result"
    }
   ],
   "source": [
    "class :\n",
    "  \n",
    "    A class is a code template for creating objects. Objects have member variables and have behaviour associated with them. \n",
    "    In python a class is created by the keyword class.\n",
    "\n",
    "object :\n",
    "    \n",
    "    An object is created using the constructor of the class. This object will then be called the instance of the class. \n",
    "    In Python we create instances in the following manner\n",
    "\n",
    "Ex. of class and object \n",
    "\n",
    "class first_class :\n",
    "    \n",
    "    strr = \" Hello pwskills assignments checker how are you \"\n",
    "\n",
    "obj_1 = first_class()\n",
    "\n",
    "obj_1.strr"
   ]
  },
  {
   "cell_type": "markdown",
   "id": "156fe6c8",
   "metadata": {},
   "source": [
    "# Q2. Soln."
   ]
  },
  {
   "cell_type": "code",
   "execution_count": 3,
   "id": "a22b3aaf",
   "metadata": {},
   "outputs": [],
   "source": [
    "The four pillars of object oriented progamming are :\n",
    "\n",
    "1. Inheritance\n",
    "2. Encapsulation\n",
    "3. Polymorphism\n",
    "4. Abstraction"
   ]
  },
  {
   "cell_type": "markdown",
   "id": "3e5a4c15",
   "metadata": {},
   "source": [
    "# Q3. Soln."
   ]
  },
  {
   "cell_type": "code",
   "execution_count": 8,
   "id": "899f7d89",
   "metadata": {},
   "outputs": [
    {
     "name": "stdout",
     "output_type": "stream",
     "text": [
      " MGI-COET  4410686 686  A+ \n"
     ]
    }
   ],
   "source": [
    "# The __init__() function is the kind of constructor in python language which is always used in class in order to get some user \n",
    "# input for an object or instance of the class .\n",
    "\n",
    "# Ex. \n",
    "\n",
    "class college :\n",
    "    \n",
    "    def __init__( self , col_name , col_id , col_code , col_naac_grade ) :\n",
    "        \n",
    "        self.col_name = col_name\n",
    "        self.col_id = col_id\n",
    "        self.col_code = col_code\n",
    "        self.col_naac_grade = col_naac_grade\n",
    "        \n",
    "        \n",
    "    def get_info(self) :\n",
    "        \n",
    "        print(self.col_name , self.col_id , self.col_code , self.col_naac_grade)\n",
    "\n",
    "col_1 = college(\" MGI-COET \" , 4410686 , 686 , \" A+ \" )\n",
    "\n",
    "col_1.get_info()\n",
    "        "
   ]
  },
  {
   "cell_type": "markdown",
   "id": "0d41ab44",
   "metadata": {},
   "source": [
    "# Q4. Soln."
   ]
  },
  {
   "cell_type": "code",
   "execution_count": 10,
   "id": "9ee4c941",
   "metadata": {},
   "outputs": [],
   "source": [
    "THE USE OF THE self ARGUMENT IN THE OOPS :\n",
    "\n",
    "The self keyword is used to represent an instance (object) of the given class. In the above case, the object col_1 has it's \n",
    "own attributes. If there was no self argument, the same class couldn't hold the information for these objects."
   ]
  },
  {
   "cell_type": "code",
   "execution_count": null,
   "id": "32c644a3",
   "metadata": {},
   "outputs": [],
   "source": []
  }
 ],
 "metadata": {
  "kernelspec": {
   "display_name": "Python 3 (ipykernel)",
   "language": "python",
   "name": "python3"
  },
  "language_info": {
   "codemirror_mode": {
    "name": "ipython",
    "version": 3
   },
   "file_extension": ".py",
   "mimetype": "text/x-python",
   "name": "python",
   "nbconvert_exporter": "python",
   "pygments_lexer": "ipython3",
   "version": "3.9.13"
  }
 },
 "nbformat": 4,
 "nbformat_minor": 5
}
