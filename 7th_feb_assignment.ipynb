{
 "cells": [
  {
   "cell_type": "markdown",
   "id": "f904066c",
   "metadata": {},
   "source": [
    "# Q1. Soln."
   ]
  },
  {
   "cell_type": "code",
   "execution_count": 11,
   "id": "2a589c9f",
   "metadata": {},
   "outputs": [],
   "source": [
    "def pass_inp(user_pass) :\n",
    "    \n",
    "    upper_case = \"ABCDEFGHIJKLMNOPQRSTUVWXYZ\"\n",
    "    lower_case = \"abcdefghijklmnopqrstuvwxyz\"\n",
    "    special_char = \"@#$%^&*_\"\n",
    "    numbers = \"0123456789\"\n",
    "    \n",
    "    upper_count , lower_count , num_count , special_count = 0 , 0 , 0 , 0\n",
    "    \n",
    "    if len(user_pass) == 10 :\n",
    "        \n",
    "        for i in user_pass :\n",
    "            \n",
    "            if i in lower_case :\n",
    "                lower_count = lower_count + 1\n",
    "                \n",
    "            if i in upper_case :\n",
    "                upper_count = upper_count + 1 \n",
    "            \n",
    "            if i in special_char :\n",
    "                special_count = special_count + 1\n",
    "                \n",
    "            if i in numbers :\n",
    "                num_count = num_count + 1\n",
    "        \n",
    "    if upper_count >= 2 and lower_count >= 2 and num_count >= 1 and special_count == 3 :\n",
    "            \n",
    "        print(\" Valid password \")\n",
    "        \n",
    "    else :\n",
    "            \n",
    "        print(\" Invalid password \")\n",
    "                "
   ]
  },
  {
   "cell_type": "code",
   "execution_count": 12,
   "id": "f64fb082",
   "metadata": {},
   "outputs": [
    {
     "name": "stdout",
     "output_type": "stream",
     "text": [
      " Invalid password \n"
     ]
    }
   ],
   "source": [
    "pass_inp(\"IamboRed@123^*\")\n",
    "\n",
    "Because the length of password is 14 and is not equal to 10 so this will be Invalid password"
   ]
  },
  {
   "cell_type": "code",
   "execution_count": 17,
   "id": "ff0e8ba6",
   "metadata": {},
   "outputs": [
    {
     "name": "stdout",
     "output_type": "stream",
     "text": [
      " Invalid password \n"
     ]
    }
   ],
   "source": [
    "pass_inp(\"HEEll1%@#\")\n",
    "\n",
    "Because the length of password is 9 and  not equal to 10 so this will be Invalid password"
   ]
  },
  {
   "cell_type": "code",
   "execution_count": 18,
   "id": "aa84d740",
   "metadata": {},
   "outputs": [
    {
     "name": "stdout",
     "output_type": "stream",
     "text": [
      " Valid password \n"
     ]
    }
   ],
   "source": [
    "pass_inp(\"HEll0%^&gh\")\n",
    "\n",
    "Because the length of password is exactly 10 so this will be Valid password and follows all given conditions present in the\n",
    "problem statement"
   ]
  },
  {
   "cell_type": "markdown",
   "id": "9b31014d",
   "metadata": {},
   "source": [
    "# Q2. Soln."
   ]
  },
  {
   "cell_type": "code",
   "execution_count": 126,
   "id": "07f59e91",
   "metadata": {},
   "outputs": [],
   "source": [
    "\"\"\"check if the given string starts with a particular letter\n",
    "\n",
    "Let's suppose here the starting letter of the string should always be \"a\" so we'll check whether the starting letter is \"a\" or not \"\"\"\n",
    "\n",
    "check_initial = lambda x : x[0] == 'a'\n",
    "    "
   ]
  },
  {
   "cell_type": "code",
   "execution_count": 130,
   "id": "c1c42037",
   "metadata": {},
   "outputs": [
    {
     "name": "stdout",
     "output_type": "stream",
     "text": [
      " Enter the string : apple is ver sweet\n",
      " Yes , the string starts with given particular letter that is 'a' \n"
     ]
    }
   ],
   "source": [
    "strr_inp = input(\" Enter the string : \")\n",
    "bool_val = check_initial(strr_inp)\n",
    "\n",
    "if bool_val == True :\n",
    "    print(\" Yes , the string starts with given particular letter that is 'a' \")\n",
    "else :\n",
    "    print(\" No , the string does not start with the given particular letter\")"
   ]
  },
  {
   "cell_type": "code",
   "execution_count": 131,
   "id": "7a4a701b",
   "metadata": {},
   "outputs": [],
   "source": [
    "check if the string is numeric \n",
    "\n",
    "def check_numeric(string1) :\n",
    "    \n",
    "    try :\n",
    "    \n",
    "        if type(int(string1)) == int :\n",
    "            print(\" Numeric string \")\n",
    "\n",
    "        \n",
    "    except :\n",
    "        \n",
    "        print(\" Not a numeric string \")\n",
    "        \n"
   ]
  },
  {
   "cell_type": "code",
   "execution_count": 48,
   "id": "6548c618",
   "metadata": {},
   "outputs": [
    {
     "name": "stdout",
     "output_type": "stream",
     "text": [
      " Enter the string : 65436453\n",
      " Numeric string \n"
     ]
    }
   ],
   "source": [
    "strr1 = input(\" Enter the string : \")\n",
    "\n",
    "check_numeric(strr1)"
   ]
  },
  {
   "cell_type": "code",
   "execution_count": 56,
   "id": "7d4c604a",
   "metadata": {},
   "outputs": [],
   "source": [
    "sorting the list of tuples using fruit name and quantity\n",
    "\n",
    "list1 = [ (\"mango\",99) , (\"orange\",80) , (\"grapes\", 1000) ]\n",
    "\n",
    "1. sorting the list of tuples using fruit name\n",
    "\n",
    "def sort_list_name(list_name) :\n",
    "    \n",
    "    list_name.sort(key = lambda x : x[0])\n",
    "    \n",
    "    return list_name\n",
    "\n",
    "2. sorting the list of tuples using quantity\n",
    "\n",
    "def sort_list_quantity(list_name) :\n",
    "    \n",
    "    list_name.sort(key = lambda x : x[1])\n",
    "    \n",
    "    return list_name\n",
    "\n",
    "    "
   ]
  },
  {
   "cell_type": "code",
   "execution_count": 57,
   "id": "c2f6f519",
   "metadata": {},
   "outputs": [
    {
     "data": {
      "text/plain": [
       "[('grapes', 1000), ('mango', 99), ('orange', 80)]"
      ]
     },
     "execution_count": 57,
     "metadata": {},
     "output_type": "execute_result"
    }
   ],
   "source": [
    "sort_list_name(list1)"
   ]
  },
  {
   "cell_type": "code",
   "execution_count": 58,
   "id": "ce91e5c6",
   "metadata": {},
   "outputs": [
    {
     "data": {
      "text/plain": [
       "[('orange', 80), ('mango', 99), ('grapes', 1000)]"
      ]
     },
     "execution_count": 58,
     "metadata": {},
     "output_type": "execute_result"
    }
   ],
   "source": [
    "sort_list_quantity(list1)"
   ]
  },
  {
   "cell_type": "code",
   "execution_count": 68,
   "id": "3ebe2664",
   "metadata": {},
   "outputs": [
    {
     "name": "stdout",
     "output_type": "stream",
     "text": [
      "[0, 1, 2, 3, 4, 5, 6, 7, 8, 9, 10]\n",
      " \n",
      " The square of the numbers shown in above list will be : \n",
      " \n",
      "[0, 1, 4, 9, 16, 25, 36, 49, 64, 81, 100]\n"
     ]
    }
   ],
   "source": [
    "find the squares of numbers from 1 to 10 \n",
    "\n",
    "print([numbers for numbers in range(0,11)])\n",
    "\n",
    "print(\" \\n The square of the numbers shown in above list will be : \\n \")\n",
    "\n",
    "print([numbers ** 2 for numbers in range(0,11)])"
   ]
  },
  {
   "cell_type": "code",
   "execution_count": 73,
   "id": "6b5b837e",
   "metadata": {},
   "outputs": [
    {
     "name": "stdout",
     "output_type": "stream",
     "text": [
      "[0, 1, 2, 3, 4, 5, 6, 7, 8, 9, 10]\n",
      " \n",
      " The square of the numbers shown in above list will be : \n",
      " \n",
      "[0.0, 1.0, 1.2599210498948732, 1.4422495703074083, 1.5874010519681994, 1.7099759466766968, 1.8171205928321397, 1.912931182772389, 2.0, 2.080083823051904, 2.154434690031884]\n"
     ]
    }
   ],
   "source": [
    "find the cube root of numbers from 1 to 10 \n",
    "\n",
    "print([numbers for numbers in range(0,11)])\n",
    "\n",
    "print(\" \\n The square of the numbers shown in above list will be : \\n \")\n",
    "\n",
    "print([numbers ** (1./3) for numbers in range(0,11)])"
   ]
  },
  {
   "cell_type": "code",
   "execution_count": 113,
   "id": "c5b62a64",
   "metadata": {},
   "outputs": [],
   "source": [
    "# check if a given no. is even \n",
    "\n",
    "checkk = lambda num :  num % 2 == 0 "
   ]
  },
  {
   "cell_type": "code",
   "execution_count": 124,
   "id": "88db2188",
   "metadata": {},
   "outputs": [
    {
     "name": "stdout",
     "output_type": "stream",
     "text": [
      " Enter the no. to be checked : 44\n",
      " No. is even \n"
     ]
    }
   ],
   "source": [
    "get_inp = int(input(\" Enter the no. to be checked : \"))\n",
    "bool_val1 = checkk(get_inp)\n",
    "\n",
    "if bool_val == True :\n",
    "    print(\" No. is even \")\n",
    "else :\n",
    "    print(\" No. is odd\")\n",
    "\n"
   ]
  },
  {
   "cell_type": "code",
   "execution_count": 80,
   "id": "794608e2",
   "metadata": {},
   "outputs": [
    {
     "name": "stdout",
     "output_type": "stream",
     "text": [
      " The number is odd or say is not even \n"
     ]
    }
   ],
   "source": [
    "even_check(55)"
   ]
  },
  {
   "cell_type": "code",
   "execution_count": 85,
   "id": "47aaf4ba",
   "metadata": {},
   "outputs": [
    {
     "name": "stdout",
     "output_type": "stream",
     "text": [
      "[1, 3, 5, 7, 9]\n"
     ]
    }
   ],
   "source": [
    "# filter odd numbers from given list\n",
    "\n",
    "listt = [1,2,3,4,5,6,7,8,9,10]\n",
    "\n",
    "odd_list = list(filter(lambda x : x % 2 != 0 , listt))\n",
    "print(odd_list)\n"
   ]
  },
  {
   "cell_type": "code",
   "execution_count": 138,
   "id": "e3ceb0f3",
   "metadata": {},
   "outputs": [],
   "source": [
    "# Sort a list of integers into positive and negative integers lists\n",
    "\n",
    "\n",
    "listtt1 = [1,2,3,4,5,6,-1,-2,-3,-4,-5,0]\n",
    "\n",
    "\n",
    "neg_list1 = list(filter(lambda x : x < 0 , listtt1))\n",
    "pos_list1 = list(filter(lambda x : x >= 0 , listtt1))\n",
    "\n"
   ]
  },
  {
   "cell_type": "code",
   "execution_count": 139,
   "id": "4d2ec399",
   "metadata": {},
   "outputs": [
    {
     "name": "stdout",
     "output_type": "stream",
     "text": [
      "[-1, -2, -3, -4, -5]\n",
      "[1, 2, 3, 4, 5, 6, 0]\n"
     ]
    }
   ],
   "source": [
    "print(neg_list1)\n",
    "print(pos_list1)"
   ]
  },
  {
   "cell_type": "code",
   "execution_count": null,
   "id": "9b2cad8f",
   "metadata": {},
   "outputs": [],
   "source": []
  }
 ],
 "metadata": {
  "kernelspec": {
   "display_name": "Python 3 (ipykernel)",
   "language": "python",
   "name": "python3"
  },
  "language_info": {
   "codemirror_mode": {
    "name": "ipython",
    "version": 3
   },
   "file_extension": ".py",
   "mimetype": "text/x-python",
   "name": "python",
   "nbconvert_exporter": "python",
   "pygments_lexer": "ipython3",
   "version": "3.9.13"
  }
 },
 "nbformat": 4,
 "nbformat_minor": 5
}
